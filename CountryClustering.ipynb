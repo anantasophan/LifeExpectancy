{
  "cells": [
    {
      "cell_type": "markdown",
      "metadata": {
        "id": "6iK655xlBiTK"
      },
      "source": [
        "# Ananta Faadillah Sophan\n"
      ]
    },
    {
      "cell_type": "markdown",
      "metadata": {
        "id": "cUyneCYoZECa"
      },
      "source": [
        "# Problem Statement\n",
        "Melakukan segmentasi terhadap negara-negara berdasarkan harapan hidupnya dengan menggunakan KMeans (Unsrupervised Learning)"
      ]
    },
    {
      "cell_type": "markdown",
      "metadata": {
        "id": "hg41qzqLDdG8"
      },
      "source": [
        "## Import Libraries"
      ]
    },
    {
      "cell_type": "markdown",
      "metadata": {
        "id": "NZ9UMBgIZOYD"
      },
      "source": [
        "Import Library yang dibutuhkan"
      ]
    },
    {
      "cell_type": "code",
      "execution_count": 1,
      "metadata": {
        "colab": {
          "base_uri": "https://localhost:8080/"
        },
        "id": "DsbyiPp6DeCP",
        "outputId": "807b1814-da77-4111-e4d6-93cb60b5a311"
      },
      "outputs": [
        {
          "name": "stdout",
          "output_type": "stream",
          "text": [
            "Looking in indexes: https://pypi.org/simple, https://us-python.pkg.dev/colab-wheels/public/simple/\n",
            "Requirement already satisfied: feature_engine in /usr/local/lib/python3.7/dist-packages (1.4.0)\n",
            "Requirement already satisfied: pandas>=1.0.3 in /usr/local/lib/python3.7/dist-packages (from feature_engine) (1.3.5)\n",
            "Requirement already satisfied: numpy>=1.18.2 in /usr/local/lib/python3.7/dist-packages (from feature_engine) (1.21.6)\n",
            "Requirement already satisfied: statsmodels>=0.11.1 in /usr/local/lib/python3.7/dist-packages (from feature_engine) (0.12.2)\n",
            "Requirement already satisfied: scikit-learn>=1.0.0 in /usr/local/lib/python3.7/dist-packages (from feature_engine) (1.0.2)\n",
            "Requirement already satisfied: scipy>=1.4.1 in /usr/local/lib/python3.7/dist-packages (from feature_engine) (1.7.3)\n",
            "Requirement already satisfied: python-dateutil>=2.7.3 in /usr/local/lib/python3.7/dist-packages (from pandas>=1.0.3->feature_engine) (2.8.2)\n",
            "Requirement already satisfied: pytz>=2017.3 in /usr/local/lib/python3.7/dist-packages (from pandas>=1.0.3->feature_engine) (2022.6)\n",
            "Requirement already satisfied: six>=1.5 in /usr/local/lib/python3.7/dist-packages (from python-dateutil>=2.7.3->pandas>=1.0.3->feature_engine) (1.15.0)\n",
            "Requirement already satisfied: joblib>=0.11 in /usr/local/lib/python3.7/dist-packages (from scikit-learn>=1.0.0->feature_engine) (1.2.0)\n",
            "Requirement already satisfied: threadpoolctl>=2.0.0 in /usr/local/lib/python3.7/dist-packages (from scikit-learn>=1.0.0->feature_engine) (3.1.0)\n",
            "Requirement already satisfied: patsy>=0.5 in /usr/local/lib/python3.7/dist-packages (from statsmodels>=0.11.1->feature_engine) (0.5.3)\n"
          ]
        }
      ],
      "source": [
        "!pip install feature_engine"
      ]
    },
    {
      "cell_type": "code",
      "execution_count": 2,
      "metadata": {
        "id": "oRtoD7KrBgXg"
      },
      "outputs": [],
      "source": [
        "import pandas as pd\n",
        "import numpy as np\n",
        "import seaborn as sns\n",
        "import matplotlib.pyplot as plt\n",
        "import warnings\n",
        "from sklearn.preprocessing import MinMaxScaler,StandardScaler\n",
        "from statsmodels.stats.outliers_influence import variance_inflation_factor\n",
        "from sklearn.decomposition import PCA\n",
        "from sklearn.cluster import KMeans\n",
        "from yellowbrick.cluster import KElbowVisualizer\n",
        "import pylab as pl\n",
        "# To Evaluate Models\n",
        "from sklearn.metrics import silhouette_score\n",
        "from sklearn.metrics import silhouette_samples,davies_bouldin_score, calinski_harabasz_score\n",
        "from yellowbrick.cluster import KElbowVisualizer\n",
        "from matplotlib.ticker import FixedLocator, FixedFormatter\n",
        "warnings.filterwarnings('ignore')"
      ]
    },
    {
      "cell_type": "markdown",
      "metadata": {
        "id": "NtORoN28DqxP"
      },
      "source": [
        "## Data Loading"
      ]
    },
    {
      "cell_type": "markdown",
      "metadata": {
        "id": "2Ua5z5kuZvAb"
      },
      "source": [
        "Import Dataset yang diperlukan dan melakukan sedikit Overview"
      ]
    },
    {
      "cell_type": "code",
      "execution_count": 3,
      "metadata": {
        "id": "UZe_DaoZDsc1"
      },
      "outputs": [],
      "source": [
        "df = pd.read_csv('/content/life-expectancy.csv')"
      ]
    },
    {
      "cell_type": "code",
      "execution_count": 4,
      "metadata": {
        "colab": {
          "base_uri": "https://localhost:8080/",
          "height": 206
        },
        "id": "7e8TuLp3Dxio",
        "outputId": "9ea22453-0035-4ca2-8cf6-4507c53595f5"
      },
      "outputs": [
        {
          "data": {
            "text/html": [
              "\n",
              "  <div id=\"df-65b3b046-cdc2-45dd-a2fa-502aa63e9f39\">\n",
              "    <div class=\"colab-df-container\">\n",
              "      <div>\n",
              "<style scoped>\n",
              "    .dataframe tbody tr th:only-of-type {\n",
              "        vertical-align: middle;\n",
              "    }\n",
              "\n",
              "    .dataframe tbody tr th {\n",
              "        vertical-align: top;\n",
              "    }\n",
              "\n",
              "    .dataframe thead th {\n",
              "        text-align: right;\n",
              "    }\n",
              "</style>\n",
              "<table border=\"1\" class=\"dataframe\">\n",
              "  <thead>\n",
              "    <tr style=\"text-align: right;\">\n",
              "      <th></th>\n",
              "      <th>Rank</th>\n",
              "      <th>Country</th>\n",
              "      <th>Overall Life</th>\n",
              "      <th>Male Life</th>\n",
              "      <th>Female Life</th>\n",
              "      <th>Continent</th>\n",
              "    </tr>\n",
              "  </thead>\n",
              "  <tbody>\n",
              "    <tr>\n",
              "      <th>0</th>\n",
              "      <td>1</td>\n",
              "      <td>Monaco</td>\n",
              "      <td>89.5</td>\n",
              "      <td>85.6</td>\n",
              "      <td>93.5</td>\n",
              "      <td>Europe</td>\n",
              "    </tr>\n",
              "    <tr>\n",
              "      <th>1</th>\n",
              "      <td>2</td>\n",
              "      <td>Japan</td>\n",
              "      <td>85.0</td>\n",
              "      <td>81.7</td>\n",
              "      <td>88.5</td>\n",
              "      <td>Asia</td>\n",
              "    </tr>\n",
              "    <tr>\n",
              "      <th>2</th>\n",
              "      <td>3</td>\n",
              "      <td>Singapore</td>\n",
              "      <td>85.0</td>\n",
              "      <td>82.3</td>\n",
              "      <td>87.8</td>\n",
              "      <td>Asia</td>\n",
              "    </tr>\n",
              "    <tr>\n",
              "      <th>3</th>\n",
              "      <td>4</td>\n",
              "      <td>Macau; China</td>\n",
              "      <td>84.5</td>\n",
              "      <td>81.6</td>\n",
              "      <td>87.6</td>\n",
              "      <td>Asia</td>\n",
              "    </tr>\n",
              "    <tr>\n",
              "      <th>4</th>\n",
              "      <td>5</td>\n",
              "      <td>San Marino</td>\n",
              "      <td>83.3</td>\n",
              "      <td>80.7</td>\n",
              "      <td>86.1</td>\n",
              "      <td>Europe</td>\n",
              "    </tr>\n",
              "  </tbody>\n",
              "</table>\n",
              "</div>\n",
              "      <button class=\"colab-df-convert\" onclick=\"convertToInteractive('df-65b3b046-cdc2-45dd-a2fa-502aa63e9f39')\"\n",
              "              title=\"Convert this dataframe to an interactive table.\"\n",
              "              style=\"display:none;\">\n",
              "        \n",
              "  <svg xmlns=\"http://www.w3.org/2000/svg\" height=\"24px\"viewBox=\"0 0 24 24\"\n",
              "       width=\"24px\">\n",
              "    <path d=\"M0 0h24v24H0V0z\" fill=\"none\"/>\n",
              "    <path d=\"M18.56 5.44l.94 2.06.94-2.06 2.06-.94-2.06-.94-.94-2.06-.94 2.06-2.06.94zm-11 1L8.5 8.5l.94-2.06 2.06-.94-2.06-.94L8.5 2.5l-.94 2.06-2.06.94zm10 10l.94 2.06.94-2.06 2.06-.94-2.06-.94-.94-2.06-.94 2.06-2.06.94z\"/><path d=\"M17.41 7.96l-1.37-1.37c-.4-.4-.92-.59-1.43-.59-.52 0-1.04.2-1.43.59L10.3 9.45l-7.72 7.72c-.78.78-.78 2.05 0 2.83L4 21.41c.39.39.9.59 1.41.59.51 0 1.02-.2 1.41-.59l7.78-7.78 2.81-2.81c.8-.78.8-2.07 0-2.86zM5.41 20L4 18.59l7.72-7.72 1.47 1.35L5.41 20z\"/>\n",
              "  </svg>\n",
              "      </button>\n",
              "      \n",
              "  <style>\n",
              "    .colab-df-container {\n",
              "      display:flex;\n",
              "      flex-wrap:wrap;\n",
              "      gap: 12px;\n",
              "    }\n",
              "\n",
              "    .colab-df-convert {\n",
              "      background-color: #E8F0FE;\n",
              "      border: none;\n",
              "      border-radius: 50%;\n",
              "      cursor: pointer;\n",
              "      display: none;\n",
              "      fill: #1967D2;\n",
              "      height: 32px;\n",
              "      padding: 0 0 0 0;\n",
              "      width: 32px;\n",
              "    }\n",
              "\n",
              "    .colab-df-convert:hover {\n",
              "      background-color: #E2EBFA;\n",
              "      box-shadow: 0px 1px 2px rgba(60, 64, 67, 0.3), 0px 1px 3px 1px rgba(60, 64, 67, 0.15);\n",
              "      fill: #174EA6;\n",
              "    }\n",
              "\n",
              "    [theme=dark] .colab-df-convert {\n",
              "      background-color: #3B4455;\n",
              "      fill: #D2E3FC;\n",
              "    }\n",
              "\n",
              "    [theme=dark] .colab-df-convert:hover {\n",
              "      background-color: #434B5C;\n",
              "      box-shadow: 0px 1px 3px 1px rgba(0, 0, 0, 0.15);\n",
              "      filter: drop-shadow(0px 1px 2px rgba(0, 0, 0, 0.3));\n",
              "      fill: #FFFFFF;\n",
              "    }\n",
              "  </style>\n",
              "\n",
              "      <script>\n",
              "        const buttonEl =\n",
              "          document.querySelector('#df-65b3b046-cdc2-45dd-a2fa-502aa63e9f39 button.colab-df-convert');\n",
              "        buttonEl.style.display =\n",
              "          google.colab.kernel.accessAllowed ? 'block' : 'none';\n",
              "\n",
              "        async function convertToInteractive(key) {\n",
              "          const element = document.querySelector('#df-65b3b046-cdc2-45dd-a2fa-502aa63e9f39');\n",
              "          const dataTable =\n",
              "            await google.colab.kernel.invokeFunction('convertToInteractive',\n",
              "                                                     [key], {});\n",
              "          if (!dataTable) return;\n",
              "\n",
              "          const docLinkHtml = 'Like what you see? Visit the ' +\n",
              "            '<a target=\"_blank\" href=https://colab.research.google.com/notebooks/data_table.ipynb>data table notebook</a>'\n",
              "            + ' to learn more about interactive tables.';\n",
              "          element.innerHTML = '';\n",
              "          dataTable['output_type'] = 'display_data';\n",
              "          await google.colab.output.renderOutput(dataTable, element);\n",
              "          const docLink = document.createElement('div');\n",
              "          docLink.innerHTML = docLinkHtml;\n",
              "          element.appendChild(docLink);\n",
              "        }\n",
              "      </script>\n",
              "    </div>\n",
              "  </div>\n",
              "  "
            ],
            "text/plain": [
              "   Rank       Country  Overall Life  Male Life  Female Life Continent\n",
              "0     1        Monaco          89.5       85.6         93.5    Europe\n",
              "1     2         Japan          85.0       81.7         88.5      Asia\n",
              "2     3     Singapore          85.0       82.3         87.8      Asia\n",
              "3     4  Macau; China          84.5       81.6         87.6      Asia\n",
              "4     5    San Marino          83.3       80.7         86.1    Europe"
            ]
          },
          "execution_count": 4,
          "metadata": {},
          "output_type": "execute_result"
        }
      ],
      "source": [
        "df.head()"
      ]
    },
    {
      "cell_type": "code",
      "execution_count": 5,
      "metadata": {
        "colab": {
          "base_uri": "https://localhost:8080/",
          "height": 206
        },
        "id": "MCvi1gZcDyyv",
        "outputId": "e7ddc008-b367-4d66-e549-01e3a0026dc4"
      },
      "outputs": [
        {
          "data": {
            "text/html": [
              "\n",
              "  <div id=\"df-db491a1a-3033-4bd3-8a5e-59f14d7afd37\">\n",
              "    <div class=\"colab-df-container\">\n",
              "      <div>\n",
              "<style scoped>\n",
              "    .dataframe tbody tr th:only-of-type {\n",
              "        vertical-align: middle;\n",
              "    }\n",
              "\n",
              "    .dataframe tbody tr th {\n",
              "        vertical-align: top;\n",
              "    }\n",
              "\n",
              "    .dataframe thead th {\n",
              "        text-align: right;\n",
              "    }\n",
              "</style>\n",
              "<table border=\"1\" class=\"dataframe\">\n",
              "  <thead>\n",
              "    <tr style=\"text-align: right;\">\n",
              "      <th></th>\n",
              "      <th>Rank</th>\n",
              "      <th>Country</th>\n",
              "      <th>Overall Life</th>\n",
              "      <th>Male Life</th>\n",
              "      <th>Female Life</th>\n",
              "      <th>Continent</th>\n",
              "    </tr>\n",
              "  </thead>\n",
              "  <tbody>\n",
              "    <tr>\n",
              "      <th>218</th>\n",
              "      <td>219</td>\n",
              "      <td>Gabon</td>\n",
              "      <td>52.1</td>\n",
              "      <td>51.6</td>\n",
              "      <td>52.5</td>\n",
              "      <td>Africa</td>\n",
              "    </tr>\n",
              "    <tr>\n",
              "      <th>219</th>\n",
              "      <td>220</td>\n",
              "      <td>Swaziland</td>\n",
              "      <td>51.6</td>\n",
              "      <td>52.2</td>\n",
              "      <td>51.0</td>\n",
              "      <td>Africa</td>\n",
              "    </tr>\n",
              "    <tr>\n",
              "      <th>220</th>\n",
              "      <td>221</td>\n",
              "      <td>Afghanistan</td>\n",
              "      <td>51.3</td>\n",
              "      <td>49.9</td>\n",
              "      <td>52.7</td>\n",
              "      <td>Asia</td>\n",
              "    </tr>\n",
              "    <tr>\n",
              "      <th>221</th>\n",
              "      <td>222</td>\n",
              "      <td>Guinea-Bissau</td>\n",
              "      <td>50.6</td>\n",
              "      <td>48.6</td>\n",
              "      <td>52.7</td>\n",
              "      <td>Africa</td>\n",
              "    </tr>\n",
              "    <tr>\n",
              "      <th>222</th>\n",
              "      <td>223</td>\n",
              "      <td>Chad</td>\n",
              "      <td>50.2</td>\n",
              "      <td>49.0</td>\n",
              "      <td>51.3</td>\n",
              "      <td>Africa</td>\n",
              "    </tr>\n",
              "  </tbody>\n",
              "</table>\n",
              "</div>\n",
              "      <button class=\"colab-df-convert\" onclick=\"convertToInteractive('df-db491a1a-3033-4bd3-8a5e-59f14d7afd37')\"\n",
              "              title=\"Convert this dataframe to an interactive table.\"\n",
              "              style=\"display:none;\">\n",
              "        \n",
              "  <svg xmlns=\"http://www.w3.org/2000/svg\" height=\"24px\"viewBox=\"0 0 24 24\"\n",
              "       width=\"24px\">\n",
              "    <path d=\"M0 0h24v24H0V0z\" fill=\"none\"/>\n",
              "    <path d=\"M18.56 5.44l.94 2.06.94-2.06 2.06-.94-2.06-.94-.94-2.06-.94 2.06-2.06.94zm-11 1L8.5 8.5l.94-2.06 2.06-.94-2.06-.94L8.5 2.5l-.94 2.06-2.06.94zm10 10l.94 2.06.94-2.06 2.06-.94-2.06-.94-.94-2.06-.94 2.06-2.06.94z\"/><path d=\"M17.41 7.96l-1.37-1.37c-.4-.4-.92-.59-1.43-.59-.52 0-1.04.2-1.43.59L10.3 9.45l-7.72 7.72c-.78.78-.78 2.05 0 2.83L4 21.41c.39.39.9.59 1.41.59.51 0 1.02-.2 1.41-.59l7.78-7.78 2.81-2.81c.8-.78.8-2.07 0-2.86zM5.41 20L4 18.59l7.72-7.72 1.47 1.35L5.41 20z\"/>\n",
              "  </svg>\n",
              "      </button>\n",
              "      \n",
              "  <style>\n",
              "    .colab-df-container {\n",
              "      display:flex;\n",
              "      flex-wrap:wrap;\n",
              "      gap: 12px;\n",
              "    }\n",
              "\n",
              "    .colab-df-convert {\n",
              "      background-color: #E8F0FE;\n",
              "      border: none;\n",
              "      border-radius: 50%;\n",
              "      cursor: pointer;\n",
              "      display: none;\n",
              "      fill: #1967D2;\n",
              "      height: 32px;\n",
              "      padding: 0 0 0 0;\n",
              "      width: 32px;\n",
              "    }\n",
              "\n",
              "    .colab-df-convert:hover {\n",
              "      background-color: #E2EBFA;\n",
              "      box-shadow: 0px 1px 2px rgba(60, 64, 67, 0.3), 0px 1px 3px 1px rgba(60, 64, 67, 0.15);\n",
              "      fill: #174EA6;\n",
              "    }\n",
              "\n",
              "    [theme=dark] .colab-df-convert {\n",
              "      background-color: #3B4455;\n",
              "      fill: #D2E3FC;\n",
              "    }\n",
              "\n",
              "    [theme=dark] .colab-df-convert:hover {\n",
              "      background-color: #434B5C;\n",
              "      box-shadow: 0px 1px 3px 1px rgba(0, 0, 0, 0.15);\n",
              "      filter: drop-shadow(0px 1px 2px rgba(0, 0, 0, 0.3));\n",
              "      fill: #FFFFFF;\n",
              "    }\n",
              "  </style>\n",
              "\n",
              "      <script>\n",
              "        const buttonEl =\n",
              "          document.querySelector('#df-db491a1a-3033-4bd3-8a5e-59f14d7afd37 button.colab-df-convert');\n",
              "        buttonEl.style.display =\n",
              "          google.colab.kernel.accessAllowed ? 'block' : 'none';\n",
              "\n",
              "        async function convertToInteractive(key) {\n",
              "          const element = document.querySelector('#df-db491a1a-3033-4bd3-8a5e-59f14d7afd37');\n",
              "          const dataTable =\n",
              "            await google.colab.kernel.invokeFunction('convertToInteractive',\n",
              "                                                     [key], {});\n",
              "          if (!dataTable) return;\n",
              "\n",
              "          const docLinkHtml = 'Like what you see? Visit the ' +\n",
              "            '<a target=\"_blank\" href=https://colab.research.google.com/notebooks/data_table.ipynb>data table notebook</a>'\n",
              "            + ' to learn more about interactive tables.';\n",
              "          element.innerHTML = '';\n",
              "          dataTable['output_type'] = 'display_data';\n",
              "          await google.colab.output.renderOutput(dataTable, element);\n",
              "          const docLink = document.createElement('div');\n",
              "          docLink.innerHTML = docLinkHtml;\n",
              "          element.appendChild(docLink);\n",
              "        }\n",
              "      </script>\n",
              "    </div>\n",
              "  </div>\n",
              "  "
            ],
            "text/plain": [
              "     Rank        Country  Overall Life  Male Life  Female Life Continent\n",
              "218   219          Gabon          52.1       51.6         52.5    Africa\n",
              "219   220      Swaziland          51.6       52.2         51.0    Africa\n",
              "220   221    Afghanistan          51.3       49.9         52.7      Asia\n",
              "221   222  Guinea-Bissau          50.6       48.6         52.7    Africa\n",
              "222   223           Chad          50.2       49.0         51.3    Africa"
            ]
          },
          "execution_count": 5,
          "metadata": {},
          "output_type": "execute_result"
        }
      ],
      "source": [
        "df.tail()"
      ]
    },
    {
      "cell_type": "code",
      "execution_count": 6,
      "metadata": {
        "colab": {
          "base_uri": "https://localhost:8080/"
        },
        "id": "-jonRBtiD1BL",
        "outputId": "73582785-03fe-4953-fdb1-0ddc62419f59"
      },
      "outputs": [
        {
          "data": {
            "text/plain": [
              "(223, 6)"
            ]
          },
          "execution_count": 6,
          "metadata": {},
          "output_type": "execute_result"
        }
      ],
      "source": [
        "df.shape"
      ]
    },
    {
      "cell_type": "code",
      "execution_count": 7,
      "metadata": {
        "colab": {
          "base_uri": "https://localhost:8080/"
        },
        "id": "mQiWZiRyD57V",
        "outputId": "a66ab633-50e7-47b7-8aea-6e12b90afe0d"
      },
      "outputs": [
        {
          "data": {
            "text/plain": [
              "0"
            ]
          },
          "execution_count": 7,
          "metadata": {},
          "output_type": "execute_result"
        }
      ],
      "source": [
        "df.isnull().sum().sum()"
      ]
    },
    {
      "cell_type": "code",
      "execution_count": 8,
      "metadata": {
        "colab": {
          "base_uri": "https://localhost:8080/"
        },
        "id": "9H0sz7hED7yq",
        "outputId": "da8005c5-ea7b-4a93-a646-8095ed04aff7"
      },
      "outputs": [
        {
          "data": {
            "text/plain": [
              "(0, 6)"
            ]
          },
          "execution_count": 8,
          "metadata": {},
          "output_type": "execute_result"
        }
      ],
      "source": [
        "df[df.duplicated()].shape"
      ]
    },
    {
      "cell_type": "code",
      "execution_count": 9,
      "metadata": {
        "colab": {
          "base_uri": "https://localhost:8080/"
        },
        "id": "jP_mkaZQD954",
        "outputId": "ed1fc6d7-7f98-4d6f-c823-32a3137b4ac1"
      },
      "outputs": [
        {
          "data": {
            "text/plain": [
              "Rank            0\n",
              "Country         0\n",
              "Overall Life    0\n",
              "Male Life       0\n",
              "Female Life     0\n",
              "Continent       0\n",
              "dtype: int64"
            ]
          },
          "execution_count": 9,
          "metadata": {},
          "output_type": "execute_result"
        }
      ],
      "source": [
        "df.isnull().sum()"
      ]
    },
    {
      "cell_type": "code",
      "execution_count": 10,
      "metadata": {
        "colab": {
          "base_uri": "https://localhost:8080/"
        },
        "id": "G6K7bn4jEBwx",
        "outputId": "58782b1a-ccd6-46f1-f027-ebb934631a12"
      },
      "outputs": [
        {
          "name": "stdout",
          "output_type": "stream",
          "text": [
            "<class 'pandas.core.frame.DataFrame'>\n",
            "RangeIndex: 223 entries, 0 to 222\n",
            "Data columns (total 6 columns):\n",
            " #   Column        Non-Null Count  Dtype  \n",
            "---  ------        --------------  -----  \n",
            " 0   Rank          223 non-null    int64  \n",
            " 1   Country       223 non-null    object \n",
            " 2   Overall Life  223 non-null    float64\n",
            " 3   Male Life     223 non-null    float64\n",
            " 4   Female Life   223 non-null    float64\n",
            " 5   Continent     223 non-null    object \n",
            "dtypes: float64(3), int64(1), object(2)\n",
            "memory usage: 10.6+ KB\n"
          ]
        }
      ],
      "source": [
        "df.info()"
      ]
    },
    {
      "cell_type": "code",
      "execution_count": 11,
      "metadata": {
        "colab": {
          "base_uri": "https://localhost:8080/",
          "height": 175
        },
        "id": "4MpdOcDJEE2X",
        "outputId": "73081bc3-7d89-4e48-965e-fd2631ab2767"
      },
      "outputs": [
        {
          "data": {
            "text/html": [
              "\n",
              "  <div id=\"df-0fd25244-c9b5-4f16-b572-e1cd5201a61b\">\n",
              "    <div class=\"colab-df-container\">\n",
              "      <div>\n",
              "<style scoped>\n",
              "    .dataframe tbody tr th:only-of-type {\n",
              "        vertical-align: middle;\n",
              "    }\n",
              "\n",
              "    .dataframe tbody tr th {\n",
              "        vertical-align: top;\n",
              "    }\n",
              "\n",
              "    .dataframe thead th {\n",
              "        text-align: right;\n",
              "    }\n",
              "</style>\n",
              "<table border=\"1\" class=\"dataframe\">\n",
              "  <thead>\n",
              "    <tr style=\"text-align: right;\">\n",
              "      <th></th>\n",
              "      <th>count</th>\n",
              "      <th>mean</th>\n",
              "      <th>std</th>\n",
              "      <th>min</th>\n",
              "      <th>25%</th>\n",
              "      <th>50%</th>\n",
              "      <th>75%</th>\n",
              "      <th>max</th>\n",
              "    </tr>\n",
              "  </thead>\n",
              "  <tbody>\n",
              "    <tr>\n",
              "      <th>Rank</th>\n",
              "      <td>223.0</td>\n",
              "      <td>112.000000</td>\n",
              "      <td>64.518731</td>\n",
              "      <td>1.0</td>\n",
              "      <td>56.50</td>\n",
              "      <td>112.0</td>\n",
              "      <td>167.50</td>\n",
              "      <td>223.0</td>\n",
              "    </tr>\n",
              "    <tr>\n",
              "      <th>Overall Life</th>\n",
              "      <td>223.0</td>\n",
              "      <td>72.487892</td>\n",
              "      <td>8.459335</td>\n",
              "      <td>50.2</td>\n",
              "      <td>67.45</td>\n",
              "      <td>74.9</td>\n",
              "      <td>78.60</td>\n",
              "      <td>89.5</td>\n",
              "    </tr>\n",
              "    <tr>\n",
              "      <th>Male Life</th>\n",
              "      <td>223.0</td>\n",
              "      <td>70.041704</td>\n",
              "      <td>8.074942</td>\n",
              "      <td>48.6</td>\n",
              "      <td>64.50</td>\n",
              "      <td>72.2</td>\n",
              "      <td>75.85</td>\n",
              "      <td>85.6</td>\n",
              "    </tr>\n",
              "    <tr>\n",
              "      <th>Female Life</th>\n",
              "      <td>223.0</td>\n",
              "      <td>75.019283</td>\n",
              "      <td>8.986633</td>\n",
              "      <td>51.0</td>\n",
              "      <td>69.75</td>\n",
              "      <td>77.9</td>\n",
              "      <td>81.60</td>\n",
              "      <td>93.5</td>\n",
              "    </tr>\n",
              "  </tbody>\n",
              "</table>\n",
              "</div>\n",
              "      <button class=\"colab-df-convert\" onclick=\"convertToInteractive('df-0fd25244-c9b5-4f16-b572-e1cd5201a61b')\"\n",
              "              title=\"Convert this dataframe to an interactive table.\"\n",
              "              style=\"display:none;\">\n",
              "        \n",
              "  <svg xmlns=\"http://www.w3.org/2000/svg\" height=\"24px\"viewBox=\"0 0 24 24\"\n",
              "       width=\"24px\">\n",
              "    <path d=\"M0 0h24v24H0V0z\" fill=\"none\"/>\n",
              "    <path d=\"M18.56 5.44l.94 2.06.94-2.06 2.06-.94-2.06-.94-.94-2.06-.94 2.06-2.06.94zm-11 1L8.5 8.5l.94-2.06 2.06-.94-2.06-.94L8.5 2.5l-.94 2.06-2.06.94zm10 10l.94 2.06.94-2.06 2.06-.94-2.06-.94-.94-2.06-.94 2.06-2.06.94z\"/><path d=\"M17.41 7.96l-1.37-1.37c-.4-.4-.92-.59-1.43-.59-.52 0-1.04.2-1.43.59L10.3 9.45l-7.72 7.72c-.78.78-.78 2.05 0 2.83L4 21.41c.39.39.9.59 1.41.59.51 0 1.02-.2 1.41-.59l7.78-7.78 2.81-2.81c.8-.78.8-2.07 0-2.86zM5.41 20L4 18.59l7.72-7.72 1.47 1.35L5.41 20z\"/>\n",
              "  </svg>\n",
              "      </button>\n",
              "      \n",
              "  <style>\n",
              "    .colab-df-container {\n",
              "      display:flex;\n",
              "      flex-wrap:wrap;\n",
              "      gap: 12px;\n",
              "    }\n",
              "\n",
              "    .colab-df-convert {\n",
              "      background-color: #E8F0FE;\n",
              "      border: none;\n",
              "      border-radius: 50%;\n",
              "      cursor: pointer;\n",
              "      display: none;\n",
              "      fill: #1967D2;\n",
              "      height: 32px;\n",
              "      padding: 0 0 0 0;\n",
              "      width: 32px;\n",
              "    }\n",
              "\n",
              "    .colab-df-convert:hover {\n",
              "      background-color: #E2EBFA;\n",
              "      box-shadow: 0px 1px 2px rgba(60, 64, 67, 0.3), 0px 1px 3px 1px rgba(60, 64, 67, 0.15);\n",
              "      fill: #174EA6;\n",
              "    }\n",
              "\n",
              "    [theme=dark] .colab-df-convert {\n",
              "      background-color: #3B4455;\n",
              "      fill: #D2E3FC;\n",
              "    }\n",
              "\n",
              "    [theme=dark] .colab-df-convert:hover {\n",
              "      background-color: #434B5C;\n",
              "      box-shadow: 0px 1px 3px 1px rgba(0, 0, 0, 0.15);\n",
              "      filter: drop-shadow(0px 1px 2px rgba(0, 0, 0, 0.3));\n",
              "      fill: #FFFFFF;\n",
              "    }\n",
              "  </style>\n",
              "\n",
              "      <script>\n",
              "        const buttonEl =\n",
              "          document.querySelector('#df-0fd25244-c9b5-4f16-b572-e1cd5201a61b button.colab-df-convert');\n",
              "        buttonEl.style.display =\n",
              "          google.colab.kernel.accessAllowed ? 'block' : 'none';\n",
              "\n",
              "        async function convertToInteractive(key) {\n",
              "          const element = document.querySelector('#df-0fd25244-c9b5-4f16-b572-e1cd5201a61b');\n",
              "          const dataTable =\n",
              "            await google.colab.kernel.invokeFunction('convertToInteractive',\n",
              "                                                     [key], {});\n",
              "          if (!dataTable) return;\n",
              "\n",
              "          const docLinkHtml = 'Like what you see? Visit the ' +\n",
              "            '<a target=\"_blank\" href=https://colab.research.google.com/notebooks/data_table.ipynb>data table notebook</a>'\n",
              "            + ' to learn more about interactive tables.';\n",
              "          element.innerHTML = '';\n",
              "          dataTable['output_type'] = 'display_data';\n",
              "          await google.colab.output.renderOutput(dataTable, element);\n",
              "          const docLink = document.createElement('div');\n",
              "          docLink.innerHTML = docLinkHtml;\n",
              "          element.appendChild(docLink);\n",
              "        }\n",
              "      </script>\n",
              "    </div>\n",
              "  </div>\n",
              "  "
            ],
            "text/plain": [
              "              count        mean        std   min    25%    50%     75%    max\n",
              "Rank          223.0  112.000000  64.518731   1.0  56.50  112.0  167.50  223.0\n",
              "Overall Life  223.0   72.487892   8.459335  50.2  67.45   74.9   78.60   89.5\n",
              "Male Life     223.0   70.041704   8.074942  48.6  64.50   72.2   75.85   85.6\n",
              "Female Life   223.0   75.019283   8.986633  51.0  69.75   77.9   81.60   93.5"
            ]
          },
          "execution_count": 11,
          "metadata": {},
          "output_type": "execute_result"
        }
      ],
      "source": [
        "df.describe().T"
      ]
    },
    {
      "cell_type": "markdown",
      "metadata": {
        "id": "tNTAL-FAZYDg"
      },
      "source": [
        "Setelah dilakukan sedikit Overview data, dapat dilihat bahwa tidak ada duplikasi data ataupun Missing Values, Selain itu juga dari statistk deskriptif tidak ditemukan adanya nilai yang aneh. Untuk sementara dapat disimpulkan bahwa data tidak membutuhkan pembersihan, namun untuk Handling outlier akan ditelusuri lebih lanjut di section Handling Outlier\n",
        "\n"
      ]
    },
    {
      "cell_type": "markdown",
      "metadata": {
        "id": "7OWdBNUqEKBD"
      },
      "source": [
        "## Exploratory Data Analysis"
      ]
    },
    {
      "cell_type": "code",
      "execution_count": 12,
      "metadata": {
        "colab": {
          "base_uri": "https://localhost:8080/",
          "height": 583
        },
        "id": "wWPhF9sfMytq",
        "outputId": "9a8088d1-ef14-4e5b-ee21-b4dad55e245b"
      },
      "outputs": [
        {
          "data": {
            "image/png": "[encoded data removed]",
            "text/plain": [
              "<Figure size 576x576 with 1 Axes>"
            ]
          },
          "metadata": {},
          "output_type": "display_data"
        }
      ],
      "source": [
        "top10_OverallLife = df[['Country','Overall Life']].sort_values('Overall Life', ascending=False).head(10)\n",
        "\n",
        "plt.figure(figsize=(8,8))\n",
        "sns.barplot(x='Country', y='Overall Life', data=top10_OverallLife, palette='mako')\n",
        "plt.title('Top 10 Countries with Highest Overall Life')\n",
        "plt.xticks(rotation = 90);"
      ]
    },
    {
      "cell_type": "code",
      "execution_count": 13,
      "metadata": {
        "colab": {
          "base_uri": "https://localhost:8080/",
          "height": 583
        },
        "id": "nhGtiBfCNdv7",
        "outputId": "a97ebb0c-bf37-4eb8-c587-350ae5ac4386"
      },
      "outputs": [
        {
          "data": {
            "image/png": "[encoded data removed]",
            "text/plain": [
              "<Figure size 576x576 with 1 Axes>"
            ]
          },
          "metadata": {},
          "output_type": "display_data"
        }
      ],
      "source": [
        "top10_MaleLife = df[['Country','Male Life']].sort_values('Male Life', ascending=False).head(10)\n",
        "\n",
        "plt.figure(figsize=(8,8))\n",
        "sns.barplot(x='Country', y='Male Life', data=top10_MaleLife, palette='mako')\n",
        "plt.title('Top 10 Countries with Highest Male Life')\n",
        "plt.xticks(rotation = 90);"
      ]
    },
    {
      "cell_type": "code",
      "execution_count": 14,
      "metadata": {
        "colab": {
          "base_uri": "https://localhost:8080/",
          "height": 593
        },
        "id": "KB0iDbYZNlke",
        "outputId": "b26e7a6c-b205-4acd-8dfc-a76f79a6b5f5"
      },
      "outputs": [
        {
          "data": {
            "image/png": "[encoded data removed]",
            "text/plain": [
              "<Figure size 576x576 with 1 Axes>"
            ]
          },
          "metadata": {},
          "output_type": "display_data"
        }
      ],
      "source": [
        "top10_FemaleLife = df[['Country','Female Life']].sort_values('Female Life', ascending=False).head(10)\n",
        "\n",
        "plt.figure(figsize=(8,8))\n",
        "sns.barplot(x='Country', y='Female Life', data=top10_FemaleLife, palette='mako')\n",
        "plt.title('Top 10 Countries with Highest Female Life')\n",
        "plt.xticks(rotation = 90);"
      ]
    },
    {
      "cell_type": "code",
      "execution_count": 15,
      "metadata": {
        "colab": {
          "base_uri": "https://localhost:8080/",
          "height": 433
        },
        "id": "sUptASp1OTlD",
        "outputId": "741354ff-62f3-4346-d391-ccccf2d2cf56"
      },
      "outputs": [
        {
          "data": {
            "text/plain": [
              "<matplotlib.axes._subplots.AxesSubplot at 0x7f071ede5e90>"
            ]
          },
          "execution_count": 15,
          "metadata": {},
          "output_type": "execute_result"
        },
        {
          "data": {
            "image/png": "[encoded data removed]",
            "text/plain": [
              "<Figure size 576x396 with 1 Axes>"
            ]
          },
          "metadata": {},
          "output_type": "display_data"
        }
      ],
      "source": [
        "topcontinent = df.groupby('Continent')[['Overall Life']].mean().sort_values('Overall Life', ascending=False).plot(kind='bar')\n",
        "topcontinent"
      ]
    },
    {
      "cell_type": "markdown",
      "metadata": {
        "id": "gz3mNACgbo4E"
      },
      "source": [
        "Berdasarkan Hasil EDA diatas dapat dilihat bahwa:\n",
        "1. Monaco adalah Negara dengan angka harapan hidup tertingggi. Tidak hanya itu, Monaco juga menduduki posisi tertinggi pada bagian angka harapan hidup pria maupun wanita\n",
        "2. Dapat dilihat bahwa jika negara memiliki Male Life dan Female Life yang masuk dalam top 10, maka Overall Life negara tersebut juga merupakan top-10 Overall Life\n",
        "3. Jika dilihat dari penjelasan nomor 2, ada dua kasus pengecualian dimana negara Prancis dan Korea Selatan tidak masuk dalam top 10 negara dengan Overall Life dan Male Life yang terbaik, namun kedua negara tersebut masuk dalam top-10 dalam Female Life tertinggi\n",
        "4. Overall Life terbaik didominasi oleh benua Eropa, dimana 6 dari 10 negara dengan Overall Life terbaik berasal dari Eropa, diikuti dengan 4 negara dari Asia\n",
        "5. jika dilihat dari rata-rata Overall Life berdasarkan Benua, Benua Eropa adalah Benua yang memiliki rata-rata Overall Life terbaik."
      ]
    },
    {
      "cell_type": "markdown",
      "metadata": {
        "id": "qQO-4g07N5QC"
      },
      "source": [
        "## Data Preprocessing"
      ]
    },
    {
      "cell_type": "markdown",
      "metadata": {
        "id": "6FqKem9NQSV5"
      },
      "source": [
        "### Handling Outlier"
      ]
    },
    {
      "cell_type": "code",
      "execution_count": 16,
      "metadata": {
        "id": "MUOXMpVlEMTW"
      },
      "outputs": [],
      "source": [
        "df_clean = df.copy()"
      ]
    },
    {
      "cell_type": "code",
      "execution_count": 17,
      "metadata": {
        "id": "UtOVwCVUEdY9"
      },
      "outputs": [],
      "source": [
        "def plot_dist(df_clean, col):\n",
        "    fig, axes = plt.subplots(ncols = 2, figsize = (15, 5))\n",
        "\n",
        "# histogram\n",
        "    sns.histplot(df_clean[col],ax = axes[0], bins=30)\n",
        "    axes[0].set_title(f\"Histogram '{col}'\")\n",
        "    axes[0].axvline(df_clean[col].mean(), color = 'red', linestyle = 'dashed', label = 'mean')\n",
        "    axes[0].axvline(df_clean[col].median(), color = 'green', linestyle = 'dashed', label = 'median')\n",
        "    axes[0].legend()\n",
        "\n",
        "# boxplot\n",
        "    if df_clean[col].skew() >= 1 or df_clean[col].skew() <= -1 :\n",
        "        sns.boxplot(y=df_clean[col], ax =  axes[1], whis=3)\n",
        "        axes[1].set_title(f\"Boxplot '{col}'\")\n",
        "    \n",
        "        plt.show()\n",
        "    else:\n",
        "        sns.boxplot(y=df_clean[col], ax =  axes[1], whis=1.5)\n",
        "        axes[1].set_title(f\"Boxplot '{col}'\")\n",
        "    \n",
        "        plt.show()\n",
        "        \n",
        "# skewness\n",
        "    print(df_clean[col].name + ' Skewness: ' + str(df_clean[col].skew()))\n",
        "    if -0.5 <= df_clean[col].skew() <= 0.5:\n",
        "        print(\"Columns '{}' normal distribution\".format(col))\n",
        "    elif df_clean[col].skew() > 0.5:\n",
        "        print(\"Columns '{}' right skewed\".format(col))\n",
        "    elif df_clean[col].skew() < -0.5:\n",
        "        print(\"Columns '{}' left skewed\".format(col))"
      ]
    },
    {
      "cell_type": "markdown",
      "metadata": {
        "id": "aDxftxvHeo-3"
      },
      "source": [
        "Melihat nilai Skew dan Persebaran datanya"
      ]
    },
    {
      "cell_type": "code",
      "execution_count": 18,
      "metadata": {
        "colab": {
          "base_uri": "https://localhost:8080/",
          "height": 945
        },
        "id": "Yb114FjUEh83",
        "outputId": "cd3e7dcf-4155-4843-ba8a-660a8078f216"
      },
      "outputs": [
        {
          "data": {
            "image/png": "[encoded data removed]",
            "text/plain": [
              "<Figure size 1080x360 with 2 Axes>"
            ]
          },
          "metadata": {},
          "output_type": "display_data"
        },
        {
          "name": "stdout",
          "output_type": "stream",
          "text": [
            "Overall Life Skewness: -0.896327516670228\n",
            "Columns 'Overall Life' left skewed\n"
          ]
        },
        {
          "data": {
            "image/png": "[encoded data removed]",
            "text/plain": [
              "<Figure size 1080x360 with 2 Axes>"
            ]
          },
          "metadata": {},
          "output_type": "display_data"
        },
        {
          "name": "stdout",
          "output_type": "stream",
          "text": [
            "Female Life Skewness: -0.9647680524178575\n",
            "Columns 'Female Life' left skewed\n"
          ]
        },
        {
          "data": {
            "image/png": "[encoded data removed]",
            "text/plain": [
              "<Figure size 1080x360 with 2 Axes>"
            ]
          },
          "metadata": {},
          "output_type": "display_data"
        },
        {
          "name": "stdout",
          "output_type": "stream",
          "text": [
            "Male Life Skewness: -0.7894352253835046\n",
            "Columns 'Male Life' left skewed\n"
          ]
        }
      ],
      "source": [
        "num = ['Overall Life','Female Life', 'Male Life']\n",
        "for i in num:\n",
        "  plot_dist(df_clean,i)"
      ]
    },
    {
      "cell_type": "markdown",
      "metadata": {
        "id": "R6V4kNUtes9F"
      },
      "source": [
        "Melihat jumlah Outlier pada setiap kolom dan melihat berapa persentasenya"
      ]
    },
    {
      "cell_type": "code",
      "execution_count": 19,
      "metadata": {
        "colab": {
          "base_uri": "https://localhost:8080/"
        },
        "id": "u7s0SWUYFHmW",
        "outputId": "260ee8a4-dc4b-4fd5-91bc-7586f384ee6e"
      },
      "outputs": [
        {
          "name": "stdout",
          "output_type": "stream",
          "text": [
            "Overall Life\n",
            "count of outlier:  0\n",
            "percent of outlier:  0.0 %\n",
            "======================================================================\n",
            "Female Life\n",
            "count of outlier:  0\n",
            "percent of outlier:  0.0 %\n",
            "======================================================================\n",
            "Male Life\n",
            "count of outlier:  0\n",
            "percent of outlier:  0.0 %\n",
            "======================================================================\n"
          ]
        }
      ],
      "source": [
        "df_num = df_clean[['Overall Life','Female Life', 'Male Life']]\n",
        "for k in df_num:\n",
        "  Q3 = df_num[k].quantile(.75)\n",
        "  Q1 = df_num[k].quantile(.15)\n",
        "\n",
        "  IQR = Q3 - Q1\n",
        "\n",
        "  upper = Q3 + (1.5 * IQR)\n",
        "  lower = Q1 - (1.5 * IQR)\n",
        "\n",
        "  outlier = df_num[(df_num[k] > upper) | (df_num[k] < lower)]\n",
        "  print(k)\n",
        "  print('count of outlier: ', outlier.shape[0])\n",
        "  print('percent of outlier: ', outlier.shape[0]/df_num.shape[0] * 100, '%')\n",
        "  print('='*70)"
      ]
    },
    {
      "cell_type": "markdown",
      "metadata": {
        "id": "6Q92K234e0Zs"
      },
      "source": [
        "Setelah dilihat, Meskipun rata-rata data adalah Left Skew, data tidak memiliki outlier, sehingga dapat disimpulkan bahwa pada kasus kali ini, tidak perlu dilakukan Handling Outlier"
      ]
    },
    {
      "cell_type": "markdown",
      "metadata": {
        "id": "rr_ilu4QQaBv"
      },
      "source": [
        "### Scaling"
      ]
    },
    {
      "cell_type": "markdown",
      "metadata": {
        "id": "ZlL-RbtTfCZF"
      },
      "source": [
        "Melakukan Scaling dengan StandardScaler"
      ]
    },
    {
      "cell_type": "code",
      "execution_count": 20,
      "metadata": {
        "id": "6YdBCbrEGUfd"
      },
      "outputs": [],
      "source": [
        "num_col = ['Overall Life','Female Life', 'Male Life']\n",
        "scaler = StandardScaler()\n",
        "num_scaled = pd.DataFrame(scaler.fit_transform(df_clean[num_col]))\n",
        "num_scaled.columns = num_col\n",
        "\n",
        "df_clean.drop(num_col, axis=1, inplace=True)\n",
        "df_clean = pd.concat([df_clean.reset_index(drop=True), num_scaled], axis=1)"
      ]
    },
    {
      "cell_type": "code",
      "execution_count": 21,
      "metadata": {
        "id": "cpU9KEefJHQ7"
      },
      "outputs": [],
      "source": [
        "df_final = df_clean[[\n",
        "    'Overall Life','Female Life', 'Male Life'\n",
        "]]"
      ]
    },
    {
      "cell_type": "markdown",
      "metadata": {
        "id": "GHgdTe4vIBrT"
      },
      "source": [
        "### PCA"
      ]
    },
    {
      "cell_type": "code",
      "execution_count": 22,
      "metadata": {
        "colab": {
          "base_uri": "https://localhost:8080/"
        },
        "id": "5VhbqMalH9Wd",
        "outputId": "ebfa03ad-b217-45aa-d097-4a5a034a8bf7"
      },
      "outputs": [
        {
          "data": {
            "text/plain": [
              "array([9.91968378e-01, 7.76868310e-03, 2.62939033e-04])"
            ]
          },
          "execution_count": 22,
          "metadata": {},
          "output_type": "execute_result"
        }
      ],
      "source": [
        "pca_scaled=PCA(n_components=3).fit(df_final)\n",
        "pca_scaled.explained_variance_ratio_"
      ]
    },
    {
      "cell_type": "code",
      "execution_count": 23,
      "metadata": {
        "colab": {
          "base_uri": "https://localhost:8080/",
          "height": 334
        },
        "id": "Zg33vLTIJR7X",
        "outputId": "c5a7a7b9-faf2-4609-e54a-bdf63ec3a155"
      },
      "outputs": [
        {
          "data": {
            "image/png": "[encoded data removed]",
            "text/plain": [
              "<Figure size 648x360 with 2 Axes>"
            ]
          },
          "metadata": {},
          "output_type": "display_data"
        }
      ],
      "source": [
        "ig,ax=plt.subplots(ncols=2,figsize=(9,5))\n",
        "ax[0].plot(range(1,4),pca_scaled.explained_variance_ratio_)\n",
        "ax[0].set_xlabel('Komponen')\n",
        "ax[0].set_ylabel('Explained Variance Ratio')\n",
        "\n",
        "ax[1].plot(range(1,4),np.cumsum(pca_scaled.explained_variance_ratio_))\n",
        "ax[1].set_xlabel('Jumlah Komponen')\n",
        "ax[1].set_ylabel('Kumulatif Explained Var Ratio')\n",
        "plt.show()"
      ]
    },
    {
      "cell_type": "markdown",
      "metadata": {
        "id": "Zuc-16cVfPAN"
      },
      "source": [
        "Berdasarkan grafik EVR diatas, dapat dilihat bahwa patahan ada di nilai 2 dan pada nilai 2 sudah mencakupi informasi data hampir 100%"
      ]
    },
    {
      "cell_type": "code",
      "execution_count": 24,
      "metadata": {
        "id": "m7XrUxxlJcEm"
      },
      "outputs": [],
      "source": [
        "pca = PCA(n_components=2).fit(df_final)"
      ]
    },
    {
      "cell_type": "code",
      "execution_count": 25,
      "metadata": {
        "colab": {
          "base_uri": "https://localhost:8080/"
        },
        "id": "JhJ2kalKJe9q",
        "outputId": "2e443ad0-fde5-46c3-80ab-811c19096ec9"
      },
      "outputs": [
        {
          "data": {
            "text/plain": [
              "array([0.99196838, 0.00776868])"
            ]
          },
          "execution_count": 25,
          "metadata": {},
          "output_type": "execute_result"
        }
      ],
      "source": [
        "pca.explained_variance_ratio_"
      ]
    },
    {
      "cell_type": "code",
      "execution_count": 26,
      "metadata": {
        "id": "dOJ5CoxAJhT6"
      },
      "outputs": [],
      "source": [
        "pca.fit(df_final)\n",
        "\n",
        "pca_df = pca.transform(df_final)"
      ]
    },
    {
      "cell_type": "markdown",
      "metadata": {
        "id": "jc10jYFoUvq0"
      },
      "source": [
        "## Model"
      ]
    },
    {
      "cell_type": "markdown",
      "metadata": {
        "id": "T0Ko_aCJJ2dI"
      },
      "source": [
        "### Model Definition"
      ]
    },
    {
      "cell_type": "markdown",
      "metadata": {
        "id": "IwSMzBuhfjxF"
      },
      "source": [
        "#### K-Means"
      ]
    },
    {
      "cell_type": "code",
      "execution_count": 27,
      "metadata": {
        "id": "LWGBh35UJx-0"
      },
      "outputs": [],
      "source": [
        "model1 = KMeans()"
      ]
    },
    {
      "cell_type": "markdown",
      "metadata": {
        "id": "QFSc6g7gfnKS"
      },
      "source": [
        "##### Elbow Method"
      ]
    },
    {
      "cell_type": "code",
      "execution_count": 28,
      "metadata": {
        "colab": {
          "base_uri": "https://localhost:8080/",
          "height": 393
        },
        "id": "QnL6RQFfJ5uS",
        "outputId": "37d3bbea-ce34-4db1-fe79-83187625745e"
      },
      "outputs": [
        {
          "data": {
            "image/png": "[encoded data removed]",
            "text/plain": [
              "<Figure size 576x396 with 2 Axes>"
            ]
          },
          "metadata": {},
          "output_type": "display_data"
        },
        {
          "data": {
            "text/plain": [
              "<matplotlib.axes._subplots.AxesSubplot at 0x7f071c3b4310>"
            ]
          },
          "execution_count": 28,
          "metadata": {},
          "output_type": "execute_result"
        }
      ],
      "source": [
        "k = [2,3,4,5,6,7,8]\n",
        "visualizer = KElbowVisualizer(model1, k=(2,8))\n",
        "visualizer.fit(pca_df)        # Fit the data to the visualizer\n",
        "visualizer.show()"
      ]
    },
    {
      "cell_type": "markdown",
      "metadata": {
        "id": "Jettgj_Zfs6r"
      },
      "source": [
        "Dari grafik Elbow Method diatas, dapat dilihat bahwa penurunan yang signifikan berada di nilai 3 dan nilai 4, namun dapat dilihat bahwa score inertia yang terbaik ada di nilai 4, sehingga saya akan mengambil nilai 4"
      ]
    },
    {
      "cell_type": "code",
      "execution_count": 29,
      "metadata": {
        "id": "VV3s41U9K1hR"
      },
      "outputs": [],
      "source": [
        "kmeans_per_k = [KMeans(n_clusters=k, random_state=99).fit(pca_df)\n",
        "                for k in range(1, 10)]\n",
        "inertias = [model.inertia_ for model in kmeans_per_k]\n",
        "\n",
        "silhouette_scores = [silhouette_score(pca_df, model.labels_)\n",
        "                     for model in kmeans_per_k[1:]]"
      ]
    },
    {
      "cell_type": "code",
      "execution_count": 30,
      "metadata": {
        "colab": {
          "base_uri": "https://localhost:8080/",
          "height": 559
        },
        "id": "oqw3T4CdKMrt",
        "outputId": "66d4943f-7e0b-4448-de1c-f3e573d6b410"
      },
      "outputs": [
        {
          "data": {
            "image/png": "[encoded data removed]",
            "text/plain": [
              "<Figure size 1152x648 with 7 Axes>"
            ]
          },
          "metadata": {},
          "output_type": "display_data"
        }
      ],
      "source": [
        "plt.figure(figsize=(16, 9))\n",
        "\n",
        "for k in (2,3,4,5,6,7,8):\n",
        "    plt.subplot(4,2,k-1)\n",
        "\n",
        "    y_pred = kmeans_per_k[k-1].labels_\n",
        "    silhouette_coefficients = silhouette_samples(pca_df, y_pred)\n",
        "\n",
        "    padding = len(pca_df) // 30\n",
        "    pos = padding\n",
        "    ticks = []\n",
        "    for i in range(k):\n",
        "        coeffs = silhouette_coefficients[y_pred == i]\n",
        "        coeffs.sort()\n",
        "\n",
        "        color = pl.cm.Spectral(i / k)\n",
        "        plt.fill_betweenx(np.arange(pos, pos + len(coeffs)), 0, coeffs,\n",
        "        facecolor=color, edgecolor=color, alpha=0.7)\n",
        "        ticks.append(pos + len(coeffs) // 2)\n",
        "        pos += len(coeffs) + padding\n",
        "\n",
        "    plt.gca().yaxis.set_major_locator(FixedLocator(ticks))\n",
        "    plt.gca().yaxis.set_major_formatter(FixedFormatter(range(k)))\n",
        "    if k in (3,5):\n",
        "        plt.ylabel('Cluster')\n",
        "    if k in (5,10):\n",
        "        plt.gca().set_xticks([-0.1,0,0.2,0.4,0.6,0.8,1])\n",
        "        plt.xlabel('Silhouette Coefficient')\n",
        "    else:\n",
        "        plt.tick_params(labelbottom=False)\n",
        "\n",
        "    plt.axvline(x=silhouette_scores[k-2], color='red', linestyle='--')\n",
        "    plt.title('$k={}$'.format(k), fontsize=16)\n",
        "\n",
        "plt.show()"
      ]
    },
    {
      "cell_type": "markdown",
      "metadata": {
        "id": "grnEc0ZegNBI"
      },
      "source": [
        "Jika dilihat dari Silhoutte Score, Walaupun semua k tidak memiliki entry data yang tidak diambil (tidak ada tail), dapat dilihat dari plot bahwa pembagian cluster yang paling baik adalah antara k= 3 dan k= 4, namun jika kita juga mengacu pada elbow method, maka tetap k yang diambil adalah k = 4"
      ]
    },
    {
      "cell_type": "markdown",
      "metadata": {
        "id": "XgOOWFQOS0yl"
      },
      "source": [
        "### Model Training"
      ]
    },
    {
      "cell_type": "code",
      "execution_count": 31,
      "metadata": {
        "colab": {
          "base_uri": "https://localhost:8080/"
        },
        "id": "ftjFC95lK9oO",
        "outputId": "373d9536-6cfd-4ac7-c365-1ce0887124d3"
      },
      "outputs": [
        {
          "data": {
            "text/plain": [
              "KMeans(max_iter=500, n_clusters=4, random_state=42)"
            ]
          },
          "execution_count": 31,
          "metadata": {},
          "output_type": "execute_result"
        }
      ],
      "source": [
        "kmeans = KMeans(n_clusters=4, max_iter=500, random_state=42)\n",
        "kmeans.fit(pca_df)"
      ]
    },
    {
      "cell_type": "code",
      "execution_count": 32,
      "metadata": {
        "colab": {
          "base_uri": "https://localhost:8080/"
        },
        "id": "WuyOaiRLLEAf",
        "outputId": "b4ae9a91-e1ad-4264-9d2f-7fc0ddf60823"
      },
      "outputs": [
        {
          "data": {
            "text/plain": [
              "array([3, 3, 3, 3, 3, 3, 3, 3, 3, 3, 3, 3, 3, 3, 3, 3, 3, 3, 3, 3, 3, 3,\n",
              "       3, 3, 3, 3, 3, 3, 3, 3, 3, 3, 3, 3, 3, 3, 3, 3, 3, 3, 3, 3, 3, 3,\n",
              "       3, 3, 3, 3, 3, 3, 3, 3, 3, 3, 3, 3, 3, 3, 3, 3, 3, 3, 3, 3, 3, 3,\n",
              "       3, 3, 0, 0, 0, 0, 0, 0, 0, 0, 0, 0, 0, 0, 0, 0, 0, 0, 0, 0, 0, 0,\n",
              "       0, 0, 0, 0, 0, 0, 0, 0, 0, 0, 0, 0, 0, 0, 0, 0, 0, 0, 0, 0, 0, 0,\n",
              "       0, 0, 0, 0, 0, 0, 0, 0, 0, 0, 0, 0, 0, 0, 0, 0, 0, 0, 0, 0, 0, 0,\n",
              "       0, 0, 0, 0, 0, 0, 0, 0, 0, 0, 0, 0, 0, 0, 0, 0, 0, 0, 0, 0, 0, 0,\n",
              "       0, 0, 0, 0, 2, 2, 2, 2, 2, 2, 2, 2, 2, 2, 2, 2, 2, 2, 2, 2, 2, 2,\n",
              "       2, 2, 2, 2, 2, 2, 2, 2, 2, 2, 2, 2, 2, 2, 2, 2, 2, 2, 2, 2, 2, 2,\n",
              "       2, 1, 1, 1, 1, 1, 1, 1, 1, 1, 1, 1, 1, 1, 1, 1, 1, 1, 1, 1, 1, 1,\n",
              "       1, 1, 1], dtype=int32)"
            ]
          },
          "execution_count": 32,
          "metadata": {},
          "output_type": "execute_result"
        }
      ],
      "source": [
        "kmeans.labels_"
      ]
    },
    {
      "cell_type": "code",
      "execution_count": 33,
      "metadata": {
        "colab": {
          "base_uri": "https://localhost:8080/",
          "height": 389
        },
        "id": "_Anj4xcyS8Zm",
        "outputId": "d86bb5ec-272f-4226-d580-d428b5b90167"
      },
      "outputs": [
        {
          "data": {
            "image/png": "[encoded data removed]",
            "text/plain": [
              "<Figure size 576x432 with 1 Axes>"
            ]
          },
          "metadata": {},
          "output_type": "display_data"
        }
      ],
      "source": [
        "plt.figure(figsize=(8, 6))\n",
        "ax = sns.scatterplot(x=pca_df[:,0], y=pca_df[:,1], hue=kmeans.labels_, palette='Spectral_r')\n",
        "ax.set_title('Visualisasi Clustering dengan K-Means');"
      ]
    },
    {
      "cell_type": "markdown",
      "metadata": {
        "id": "LY4nBvxdhAum"
      },
      "source": [
        "Jika dilihat berdasarkan visualisasinya, hasil clustering yang didapatkan sudah cukup baik, karena sudah terlihat bisa dipisahkan antara keempat klusternya dan tidak nampak adanya data yang saling overlap."
      ]
    },
    {
      "cell_type": "markdown",
      "metadata": {
        "id": "BB2ln1jZT8Ym"
      },
      "source": [
        "### Model Evaluation"
      ]
    },
    {
      "cell_type": "code",
      "execution_count": 34,
      "metadata": {
        "colab": {
          "base_uri": "https://localhost:8080/",
          "height": 81
        },
        "id": "fihO2e1TL4yr",
        "outputId": "f8179b92-999f-4e9d-dd40-580337491a62"
      },
      "outputs": [
        {
          "data": {
            "text/html": [
              "\n",
              "  <div id=\"df-ec7375c9-3dce-4083-90d8-bcdea1fb5ad9\">\n",
              "    <div class=\"colab-df-container\">\n",
              "      <div>\n",
              "<style scoped>\n",
              "    .dataframe tbody tr th:only-of-type {\n",
              "        vertical-align: middle;\n",
              "    }\n",
              "\n",
              "    .dataframe tbody tr th {\n",
              "        vertical-align: top;\n",
              "    }\n",
              "\n",
              "    .dataframe thead th {\n",
              "        text-align: right;\n",
              "    }\n",
              "</style>\n",
              "<table border=\"1\" class=\"dataframe\">\n",
              "  <thead>\n",
              "    <tr style=\"text-align: right;\">\n",
              "      <th></th>\n",
              "      <th>Method</th>\n",
              "      <th>Silhouete Score</th>\n",
              "      <th>Davies Score</th>\n",
              "      <th>Calinski Score</th>\n",
              "    </tr>\n",
              "  </thead>\n",
              "  <tbody>\n",
              "    <tr>\n",
              "      <th>0</th>\n",
              "      <td>K-Means</td>\n",
              "      <td>0.54201</td>\n",
              "      <td>0.536306</td>\n",
              "      <td>846.827376</td>\n",
              "    </tr>\n",
              "  </tbody>\n",
              "</table>\n",
              "</div>\n",
              "      <button class=\"colab-df-convert\" onclick=\"convertToInteractive('df-ec7375c9-3dce-4083-90d8-bcdea1fb5ad9')\"\n",
              "              title=\"Convert this dataframe to an interactive table.\"\n",
              "              style=\"display:none;\">\n",
              "        \n",
              "  <svg xmlns=\"http://www.w3.org/2000/svg\" height=\"24px\"viewBox=\"0 0 24 24\"\n",
              "       width=\"24px\">\n",
              "    <path d=\"M0 0h24v24H0V0z\" fill=\"none\"/>\n",
              "    <path d=\"M18.56 5.44l.94 2.06.94-2.06 2.06-.94-2.06-.94-.94-2.06-.94 2.06-2.06.94zm-11 1L8.5 8.5l.94-2.06 2.06-.94-2.06-.94L8.5 2.5l-.94 2.06-2.06.94zm10 10l.94 2.06.94-2.06 2.06-.94-2.06-.94-.94-2.06-.94 2.06-2.06.94z\"/><path d=\"M17.41 7.96l-1.37-1.37c-.4-.4-.92-.59-1.43-.59-.52 0-1.04.2-1.43.59L10.3 9.45l-7.72 7.72c-.78.78-.78 2.05 0 2.83L4 21.41c.39.39.9.59 1.41.59.51 0 1.02-.2 1.41-.59l7.78-7.78 2.81-2.81c.8-.78.8-2.07 0-2.86zM5.41 20L4 18.59l7.72-7.72 1.47 1.35L5.41 20z\"/>\n",
              "  </svg>\n",
              "      </button>\n",
              "      \n",
              "  <style>\n",
              "    .colab-df-container {\n",
              "      display:flex;\n",
              "      flex-wrap:wrap;\n",
              "      gap: 12px;\n",
              "    }\n",
              "\n",
              "    .colab-df-convert {\n",
              "      background-color: #E8F0FE;\n",
              "      border: none;\n",
              "      border-radius: 50%;\n",
              "      cursor: pointer;\n",
              "      display: none;\n",
              "      fill: #1967D2;\n",
              "      height: 32px;\n",
              "      padding: 0 0 0 0;\n",
              "      width: 32px;\n",
              "    }\n",
              "\n",
              "    .colab-df-convert:hover {\n",
              "      background-color: #E2EBFA;\n",
              "      box-shadow: 0px 1px 2px rgba(60, 64, 67, 0.3), 0px 1px 3px 1px rgba(60, 64, 67, 0.15);\n",
              "      fill: #174EA6;\n",
              "    }\n",
              "\n",
              "    [theme=dark] .colab-df-convert {\n",
              "      background-color: #3B4455;\n",
              "      fill: #D2E3FC;\n",
              "    }\n",
              "\n",
              "    [theme=dark] .colab-df-convert:hover {\n",
              "      background-color: #434B5C;\n",
              "      box-shadow: 0px 1px 3px 1px rgba(0, 0, 0, 0.15);\n",
              "      filter: drop-shadow(0px 1px 2px rgba(0, 0, 0, 0.3));\n",
              "      fill: #FFFFFF;\n",
              "    }\n",
              "  </style>\n",
              "\n",
              "      <script>\n",
              "        const buttonEl =\n",
              "          document.querySelector('#df-ec7375c9-3dce-4083-90d8-bcdea1fb5ad9 button.colab-df-convert');\n",
              "        buttonEl.style.display =\n",
              "          google.colab.kernel.accessAllowed ? 'block' : 'none';\n",
              "\n",
              "        async function convertToInteractive(key) {\n",
              "          const element = document.querySelector('#df-ec7375c9-3dce-4083-90d8-bcdea1fb5ad9');\n",
              "          const dataTable =\n",
              "            await google.colab.kernel.invokeFunction('convertToInteractive',\n",
              "                                                     [key], {});\n",
              "          if (!dataTable) return;\n",
              "\n",
              "          const docLinkHtml = 'Like what you see? Visit the ' +\n",
              "            '<a target=\"_blank\" href=https://colab.research.google.com/notebooks/data_table.ipynb>data table notebook</a>'\n",
              "            + ' to learn more about interactive tables.';\n",
              "          element.innerHTML = '';\n",
              "          dataTable['output_type'] = 'display_data';\n",
              "          await google.colab.output.renderOutput(dataTable, element);\n",
              "          const docLink = document.createElement('div');\n",
              "          docLink.innerHTML = docLinkHtml;\n",
              "          element.appendChild(docLink);\n",
              "        }\n",
              "      </script>\n",
              "    </div>\n",
              "  </div>\n",
              "  "
            ],
            "text/plain": [
              "    Method  Silhouete Score  Davies Score  Calinski Score\n",
              "0  K-Means          0.54201      0.536306      846.827376"
            ]
          },
          "execution_count": 34,
          "metadata": {},
          "output_type": "execute_result"
        }
      ],
      "source": [
        "result = pd.DataFrame({'Method' : ['K-Means'],\n",
        "                  'Silhouete Score' : [silhouette_score(pca_df, kmeans.labels_)],\n",
        "                  'Davies Score' : [davies_bouldin_score(pca_df, kmeans.labels_)],\n",
        "                  'Calinski Score' : [calinski_harabasz_score(pca_df, kmeans.labels_)]})\n",
        "result"
      ]
    },
    {
      "cell_type": "code",
      "execution_count": 35,
      "metadata": {
        "id": "5zLS1pdhRSRV"
      },
      "outputs": [],
      "source": [
        "df['label'] = kmeans.labels_"
      ]
    },
    {
      "cell_type": "code",
      "execution_count": 36,
      "metadata": {
        "colab": {
          "base_uri": "https://localhost:8080/",
          "height": 250
        },
        "id": "LCx6c2iMRWML",
        "outputId": "a0bd607b-6e13-4386-d360-10d001a68aec"
      },
      "outputs": [
        {
          "data": {
            "text/html": [
              "\n",
              "  <div id=\"df-4c787d06-3149-4b42-9413-59d66f96f317\">\n",
              "    <div class=\"colab-df-container\">\n",
              "      <div>\n",
              "<style scoped>\n",
              "    .dataframe tbody tr th:only-of-type {\n",
              "        vertical-align: middle;\n",
              "    }\n",
              "\n",
              "    .dataframe tbody tr th {\n",
              "        vertical-align: top;\n",
              "    }\n",
              "\n",
              "    .dataframe thead th {\n",
              "        text-align: right;\n",
              "    }\n",
              "</style>\n",
              "<table border=\"1\" class=\"dataframe\">\n",
              "  <thead>\n",
              "    <tr style=\"text-align: right;\">\n",
              "      <th></th>\n",
              "      <th>Rank</th>\n",
              "      <th>Country</th>\n",
              "      <th>Overall Life</th>\n",
              "      <th>Male Life</th>\n",
              "      <th>Female Life</th>\n",
              "      <th>Continent</th>\n",
              "      <th>label</th>\n",
              "    </tr>\n",
              "  </thead>\n",
              "  <tbody>\n",
              "    <tr>\n",
              "      <th>0</th>\n",
              "      <td>1</td>\n",
              "      <td>Monaco</td>\n",
              "      <td>89.5</td>\n",
              "      <td>85.6</td>\n",
              "      <td>93.5</td>\n",
              "      <td>Europe</td>\n",
              "      <td>3</td>\n",
              "    </tr>\n",
              "    <tr>\n",
              "      <th>1</th>\n",
              "      <td>2</td>\n",
              "      <td>Japan</td>\n",
              "      <td>85.0</td>\n",
              "      <td>81.7</td>\n",
              "      <td>88.5</td>\n",
              "      <td>Asia</td>\n",
              "      <td>3</td>\n",
              "    </tr>\n",
              "    <tr>\n",
              "      <th>2</th>\n",
              "      <td>3</td>\n",
              "      <td>Singapore</td>\n",
              "      <td>85.0</td>\n",
              "      <td>82.3</td>\n",
              "      <td>87.8</td>\n",
              "      <td>Asia</td>\n",
              "      <td>3</td>\n",
              "    </tr>\n",
              "    <tr>\n",
              "      <th>3</th>\n",
              "      <td>4</td>\n",
              "      <td>Macau; China</td>\n",
              "      <td>84.5</td>\n",
              "      <td>81.6</td>\n",
              "      <td>87.6</td>\n",
              "      <td>Asia</td>\n",
              "      <td>3</td>\n",
              "    </tr>\n",
              "    <tr>\n",
              "      <th>4</th>\n",
              "      <td>5</td>\n",
              "      <td>San Marino</td>\n",
              "      <td>83.3</td>\n",
              "      <td>80.7</td>\n",
              "      <td>86.1</td>\n",
              "      <td>Europe</td>\n",
              "      <td>3</td>\n",
              "    </tr>\n",
              "  </tbody>\n",
              "</table>\n",
              "</div>\n",
              "      <button class=\"colab-df-convert\" onclick=\"convertToInteractive('df-4c787d06-3149-4b42-9413-59d66f96f317')\"\n",
              "              title=\"Convert this dataframe to an interactive table.\"\n",
              "              style=\"display:none;\">\n",
              "        \n",
              "  <svg xmlns=\"http://www.w3.org/2000/svg\" height=\"24px\"viewBox=\"0 0 24 24\"\n",
              "       width=\"24px\">\n",
              "    <path d=\"M0 0h24v24H0V0z\" fill=\"none\"/>\n",
              "    <path d=\"M18.56 5.44l.94 2.06.94-2.06 2.06-.94-2.06-.94-.94-2.06-.94 2.06-2.06.94zm-11 1L8.5 8.5l.94-2.06 2.06-.94-2.06-.94L8.5 2.5l-.94 2.06-2.06.94zm10 10l.94 2.06.94-2.06 2.06-.94-2.06-.94-.94-2.06-.94 2.06-2.06.94z\"/><path d=\"M17.41 7.96l-1.37-1.37c-.4-.4-.92-.59-1.43-.59-.52 0-1.04.2-1.43.59L10.3 9.45l-7.72 7.72c-.78.78-.78 2.05 0 2.83L4 21.41c.39.39.9.59 1.41.59.51 0 1.02-.2 1.41-.59l7.78-7.78 2.81-2.81c.8-.78.8-2.07 0-2.86zM5.41 20L4 18.59l7.72-7.72 1.47 1.35L5.41 20z\"/>\n",
              "  </svg>\n",
              "      </button>\n",
              "      \n",
              "  <style>\n",
              "    .colab-df-container {\n",
              "      display:flex;\n",
              "      flex-wrap:wrap;\n",
              "      gap: 12px;\n",
              "    }\n",
              "\n",
              "    .colab-df-convert {\n",
              "      background-color: #E8F0FE;\n",
              "      border: none;\n",
              "      border-radius: 50%;\n",
              "      cursor: pointer;\n",
              "      display: none;\n",
              "      fill: #1967D2;\n",
              "      height: 32px;\n",
              "      padding: 0 0 0 0;\n",
              "      width: 32px;\n",
              "    }\n",
              "\n",
              "    .colab-df-convert:hover {\n",
              "      background-color: #E2EBFA;\n",
              "      box-shadow: 0px 1px 2px rgba(60, 64, 67, 0.3), 0px 1px 3px 1px rgba(60, 64, 67, 0.15);\n",
              "      fill: #174EA6;\n",
              "    }\n",
              "\n",
              "    [theme=dark] .colab-df-convert {\n",
              "      background-color: #3B4455;\n",
              "      fill: #D2E3FC;\n",
              "    }\n",
              "\n",
              "    [theme=dark] .colab-df-convert:hover {\n",
              "      background-color: #434B5C;\n",
              "      box-shadow: 0px 1px 3px 1px rgba(0, 0, 0, 0.15);\n",
              "      filter: drop-shadow(0px 1px 2px rgba(0, 0, 0, 0.3));\n",
              "      fill: #FFFFFF;\n",
              "    }\n",
              "  </style>\n",
              "\n",
              "      <script>\n",
              "        const buttonEl =\n",
              "          document.querySelector('#df-4c787d06-3149-4b42-9413-59d66f96f317 button.colab-df-convert');\n",
              "        buttonEl.style.display =\n",
              "          google.colab.kernel.accessAllowed ? 'block' : 'none';\n",
              "\n",
              "        async function convertToInteractive(key) {\n",
              "          const element = document.querySelector('#df-4c787d06-3149-4b42-9413-59d66f96f317');\n",
              "          const dataTable =\n",
              "            await google.colab.kernel.invokeFunction('convertToInteractive',\n",
              "                                                     [key], {});\n",
              "          if (!dataTable) return;\n",
              "\n",
              "          const docLinkHtml = 'Like what you see? Visit the ' +\n",
              "            '<a target=\"_blank\" href=https://colab.research.google.com/notebooks/data_table.ipynb>data table notebook</a>'\n",
              "            + ' to learn more about interactive tables.';\n",
              "          element.innerHTML = '';\n",
              "          dataTable['output_type'] = 'display_data';\n",
              "          await google.colab.output.renderOutput(dataTable, element);\n",
              "          const docLink = document.createElement('div');\n",
              "          docLink.innerHTML = docLinkHtml;\n",
              "          element.appendChild(docLink);\n",
              "        }\n",
              "      </script>\n",
              "    </div>\n",
              "  </div>\n",
              "  "
            ],
            "text/plain": [
              "   Rank       Country  Overall Life  Male Life  Female Life Continent  label\n",
              "0     1        Monaco          89.5       85.6         93.5    Europe      3\n",
              "1     2         Japan          85.0       81.7         88.5      Asia      3\n",
              "2     3     Singapore          85.0       82.3         87.8      Asia      3\n",
              "3     4  Macau; China          84.5       81.6         87.6      Asia      3\n",
              "4     5    San Marino          83.3       80.7         86.1    Europe      3"
            ]
          },
          "execution_count": 36,
          "metadata": {},
          "output_type": "execute_result"
        }
      ],
      "source": [
        "df.head()"
      ]
    },
    {
      "cell_type": "code",
      "execution_count": 37,
      "metadata": {
        "colab": {
          "base_uri": "https://localhost:8080/"
        },
        "id": "gYj_6unjRwgn",
        "outputId": "1f5597f2-393f-4324-fb42-84d039464a68"
      },
      "outputs": [
        {
          "data": {
            "text/plain": [
              "0    90\n",
              "3    68\n",
              "2    41\n",
              "1    24\n",
              "Name: label, dtype: int64"
            ]
          },
          "execution_count": 37,
          "metadata": {},
          "output_type": "execute_result"
        }
      ],
      "source": [
        "df['label'].value_counts()"
      ]
    },
    {
      "cell_type": "markdown",
      "metadata": {
        "id": "y0mtLkDBhTtS"
      },
      "source": [
        "#### Overall Life"
      ]
    },
    {
      "cell_type": "code",
      "execution_count": 67,
      "metadata": {
        "colab": {
          "base_uri": "https://localhost:8080/",
          "height": 507
        },
        "id": "j4AYbN63RbOH",
        "outputId": "9f4fceb7-1c7d-4c98-c641-f3c24488bdc3"
      },
      "outputs": [
        {
          "data": {
            "image/png": "[encoded data removed]",
            "text/plain": [
              "<Figure size 576x576 with 1 Axes>"
            ]
          },
          "metadata": {},
          "output_type": "display_data"
        }
      ],
      "source": [
        "all = df.groupby('label')[['Overall Life']].mean()\n",
        "all = all.reset_index()\n",
        "\n",
        "plt.figure(figsize=(8,8))\n",
        "sns.barplot(x='label', y='Overall Life', data=all, palette='mako')\n",
        "plt.title('Overall Life of Label')\n",
        "plt.xticks(rotation = 90);"
      ]
    },
    {
      "cell_type": "markdown",
      "metadata": {
        "id": "2pFH4fB8hW7W"
      },
      "source": [
        "#### Male Life"
      ]
    },
    {
      "cell_type": "code",
      "execution_count": 66,
      "metadata": {
        "colab": {
          "base_uri": "https://localhost:8080/",
          "height": 507
        },
        "id": "vW3Yuzg_TtUb",
        "outputId": "05cffd49-8c4c-4728-ea12-383bb48b7144"
      },
      "outputs": [
        {
          "data": {
            "image/png": "[encoded data removed]",
            "text/plain": [
              "<Figure size 576x576 with 1 Axes>"
            ]
          },
          "metadata": {},
          "output_type": "display_data"
        }
      ],
      "source": [
        "labelm = df.groupby('label')[['Male Life']].mean()\n",
        "labelm = labelm.reset_index()\n",
        "\n",
        "plt.figure(figsize=(8,8))\n",
        "sns.barplot(x='label', y='Male Life', data=labelm, palette='mako')\n",
        "plt.title('Male Life of Label')\n",
        "plt.xticks(rotation = 90);"
      ]
    },
    {
      "cell_type": "markdown",
      "metadata": {
        "id": "sFHi8bmDhZLR"
      },
      "source": [
        "#### Female Life"
      ]
    },
    {
      "cell_type": "code",
      "execution_count": 63,
      "metadata": {
        "colab": {
          "base_uri": "https://localhost:8080/",
          "height": 507
        },
        "id": "bxMJhXsLWk5W",
        "outputId": "bb8e425c-d88a-4f9e-ade8-98bbbc4e7b7e"
      },
      "outputs": [
        {
          "data": {
            "image/png": "[encoded data removed]",
            "text/plain": [
              "<Figure size 576x576 with 1 Axes>"
            ]
          },
          "metadata": {},
          "output_type": "display_data"
        }
      ],
      "source": [
        "label = df.groupby('label')[['Female Life']].mean()\n",
        "labelf = label.reset_index()\n",
        "\n",
        "plt.figure(figsize=(8,8))\n",
        "sns.barplot(x='label', y='Female Life', data=labelf, palette='mako')\n",
        "plt.title('Female Life of Label')\n",
        "plt.xticks(rotation = 90);"
      ]
    },
    {
      "cell_type": "markdown",
      "metadata": {
        "id": "EwMfKKZ4hb6H"
      },
      "source": [
        "#### Continent"
      ]
    },
    {
      "cell_type": "code",
      "execution_count": 41,
      "metadata": {
        "colab": {
          "base_uri": "https://localhost:8080/",
          "height": 374
        },
        "id": "Pimhei_4UK9u",
        "outputId": "97dd1f8f-4d85-4799-e74f-898f5af83c82"
      },
      "outputs": [
        {
          "data": {
            "text/plain": [
              "<matplotlib.axes._subplots.AxesSubplot at 0x7f071ee8ad10>"
            ]
          },
          "execution_count": 41,
          "metadata": {},
          "output_type": "execute_result"
        },
        {
          "data": {
            "image/png": "[encoded data removed]",
            "text/plain": [
              "<Figure size 576x396 with 1 Axes>"
            ]
          },
          "metadata": {},
          "output_type": "display_data"
        }
      ],
      "source": [
        "label = df.groupby('label')[['Country']].count().sort_values('Country', ascending=False).plot(kind='bar')\n",
        "label"
      ]
    },
    {
      "cell_type": "code",
      "execution_count": 82,
      "metadata": {
        "colab": {
          "base_uri": "https://localhost:8080/",
          "height": 206
        },
        "id": "VT7WPoQIaJv2",
        "outputId": "5a4e7824-caee-4bae-c72e-5fc49fda47fa"
      },
      "outputs": [
        {
          "data": {
            "text/html": [
              "\n",
              "  <div id=\"df-578f8e39-9128-4843-90ae-b0ba1bcecb77\">\n",
              "    <div class=\"colab-df-container\">\n",
              "      <div>\n",
              "<style scoped>\n",
              "    .dataframe tbody tr th:only-of-type {\n",
              "        vertical-align: middle;\n",
              "    }\n",
              "\n",
              "    .dataframe tbody tr th {\n",
              "        vertical-align: top;\n",
              "    }\n",
              "\n",
              "    .dataframe thead th {\n",
              "        text-align: right;\n",
              "    }\n",
              "</style>\n",
              "<table border=\"1\" class=\"dataframe\">\n",
              "  <thead>\n",
              "    <tr style=\"text-align: right;\">\n",
              "      <th></th>\n",
              "      <th>Country</th>\n",
              "    </tr>\n",
              "    <tr>\n",
              "      <th>label</th>\n",
              "      <th></th>\n",
              "    </tr>\n",
              "  </thead>\n",
              "  <tbody>\n",
              "    <tr>\n",
              "      <th>0</th>\n",
              "      <td>90</td>\n",
              "    </tr>\n",
              "    <tr>\n",
              "      <th>1</th>\n",
              "      <td>24</td>\n",
              "    </tr>\n",
              "    <tr>\n",
              "      <th>2</th>\n",
              "      <td>41</td>\n",
              "    </tr>\n",
              "    <tr>\n",
              "      <th>3</th>\n",
              "      <td>68</td>\n",
              "    </tr>\n",
              "  </tbody>\n",
              "</table>\n",
              "</div>\n",
              "      <button class=\"colab-df-convert\" onclick=\"convertToInteractive('df-578f8e39-9128-4843-90ae-b0ba1bcecb77')\"\n",
              "              title=\"Convert this dataframe to an interactive table.\"\n",
              "              style=\"display:none;\">\n",
              "        \n",
              "  <svg xmlns=\"http://www.w3.org/2000/svg\" height=\"24px\"viewBox=\"0 0 24 24\"\n",
              "       width=\"24px\">\n",
              "    <path d=\"M0 0h24v24H0V0z\" fill=\"none\"/>\n",
              "    <path d=\"M18.56 5.44l.94 2.06.94-2.06 2.06-.94-2.06-.94-.94-2.06-.94 2.06-2.06.94zm-11 1L8.5 8.5l.94-2.06 2.06-.94-2.06-.94L8.5 2.5l-.94 2.06-2.06.94zm10 10l.94 2.06.94-2.06 2.06-.94-2.06-.94-.94-2.06-.94 2.06-2.06.94z\"/><path d=\"M17.41 7.96l-1.37-1.37c-.4-.4-.92-.59-1.43-.59-.52 0-1.04.2-1.43.59L10.3 9.45l-7.72 7.72c-.78.78-.78 2.05 0 2.83L4 21.41c.39.39.9.59 1.41.59.51 0 1.02-.2 1.41-.59l7.78-7.78 2.81-2.81c.8-.78.8-2.07 0-2.86zM5.41 20L4 18.59l7.72-7.72 1.47 1.35L5.41 20z\"/>\n",
              "  </svg>\n",
              "      </button>\n",
              "      \n",
              "  <style>\n",
              "    .colab-df-container {\n",
              "      display:flex;\n",
              "      flex-wrap:wrap;\n",
              "      gap: 12px;\n",
              "    }\n",
              "\n",
              "    .colab-df-convert {\n",
              "      background-color: #E8F0FE;\n",
              "      border: none;\n",
              "      border-radius: 50%;\n",
              "      cursor: pointer;\n",
              "      display: none;\n",
              "      fill: #1967D2;\n",
              "      height: 32px;\n",
              "      padding: 0 0 0 0;\n",
              "      width: 32px;\n",
              "    }\n",
              "\n",
              "    .colab-df-convert:hover {\n",
              "      background-color: #E2EBFA;\n",
              "      box-shadow: 0px 1px 2px rgba(60, 64, 67, 0.3), 0px 1px 3px 1px rgba(60, 64, 67, 0.15);\n",
              "      fill: #174EA6;\n",
              "    }\n",
              "\n",
              "    [theme=dark] .colab-df-convert {\n",
              "      background-color: #3B4455;\n",
              "      fill: #D2E3FC;\n",
              "    }\n",
              "\n",
              "    [theme=dark] .colab-df-convert:hover {\n",
              "      background-color: #434B5C;\n",
              "      box-shadow: 0px 1px 3px 1px rgba(0, 0, 0, 0.15);\n",
              "      filter: drop-shadow(0px 1px 2px rgba(0, 0, 0, 0.3));\n",
              "      fill: #FFFFFF;\n",
              "    }\n",
              "  </style>\n",
              "\n",
              "      <script>\n",
              "        const buttonEl =\n",
              "          document.querySelector('#df-578f8e39-9128-4843-90ae-b0ba1bcecb77 button.colab-df-convert');\n",
              "        buttonEl.style.display =\n",
              "          google.colab.kernel.accessAllowed ? 'block' : 'none';\n",
              "\n",
              "        async function convertToInteractive(key) {\n",
              "          const element = document.querySelector('#df-578f8e39-9128-4843-90ae-b0ba1bcecb77');\n",
              "          const dataTable =\n",
              "            await google.colab.kernel.invokeFunction('convertToInteractive',\n",
              "                                                     [key], {});\n",
              "          if (!dataTable) return;\n",
              "\n",
              "          const docLinkHtml = 'Like what you see? Visit the ' +\n",
              "            '<a target=\"_blank\" href=https://colab.research.google.com/notebooks/data_table.ipynb>data table notebook</a>'\n",
              "            + ' to learn more about interactive tables.';\n",
              "          element.innerHTML = '';\n",
              "          dataTable['output_type'] = 'display_data';\n",
              "          await google.colab.output.renderOutput(dataTable, element);\n",
              "          const docLink = document.createElement('div');\n",
              "          docLink.innerHTML = docLinkHtml;\n",
              "          element.appendChild(docLink);\n",
              "        }\n",
              "      </script>\n",
              "    </div>\n",
              "  </div>\n",
              "  "
            ],
            "text/plain": [
              "       Country\n",
              "label         \n",
              "0           90\n",
              "1           24\n",
              "2           41\n",
              "3           68"
            ]
          },
          "execution_count": 82,
          "metadata": {},
          "output_type": "execute_result"
        }
      ],
      "source": [
        "labelcount = df.groupby('label')['Country'].count().to_frame()\n",
        "\n",
        "labelcount"
      ]
    },
    {
      "cell_type": "markdown",
      "metadata": {
        "id": "Ki9osyMVY95Q"
      },
      "source": [
        "## Conclusion"
      ]
    },
    {
      "cell_type": "markdown",
      "metadata": {
        "id": "htVxxjOciMZC"
      },
      "source": [
        "Pada bagian eksplorasi data, apa insight menarik yang bisa kamu ceritakan ?\n",
        "\n",
        "Berapa cluster yang berhasil kamu peroleh dari dataset tersebut ? Apakah sudah optimal ? Visualisasikan hasil clustering yang kamu peroleh dengan plot 2 dimensi dimana 2 dimensi tersebut merupakan dimensi yang diperoleh dari hasil reduksi dimensi.\n",
        "\n",
        "Bagaimana karakteristik dari masing-masing cluster ? Bisakah kamu visualisasikan dan ceritakan ?\n",
        "\n",
        "Apa insight menarik yang kamu peroleh dari jawaban/analisa nomor 3 ?\n",
        "\n",
        "Dibandingkan dengan EDA, apakah ada kesamaan dari hasil clustering yang kamu peroleh ? Ceritakan analisamu !"
      ]
    },
    {
      "cell_type": "markdown",
      "metadata": {
        "id": "3obfEyBziXbn"
      },
      "source": [
        "--------------------------------------------------------------------------------"
      ]
    },
    {
      "cell_type": "markdown",
      "metadata": {
        "id": "rTyyWu9PiS92"
      },
      "source": [
        "Berdasarkan Hasil EDA diatas dapat dilihat bahwa:\n",
        "1. Monaco adalah Negara dengan angka harapan hidup tertingggi. Tidak hanya itu, Monaco juga menduduki posisi tertinggi pada bagian angka harapan hidup pria maupun wanita\n",
        "2. Dapat dilihat bahwa jika negara memiliki Male Life dan Female Life yang masuk dalam top 10, maka Overall Life negara tersebut juga merupakan top-10 Overall Life\n",
        "3. Jika dilihat dari penjelasan nomor 2, ada dua kasus pengecualian dimana negara Prancis dan Korea Selatan tidak masuk dalam top 10 negara dengan Overall Life dan Male Life yang terbaik, namun kedua negara tersebut masuk dalam top-10 dalam Female Life tertinggi\n",
        "4. Overall Life terbaik didominasi oleh benua Eropa, dimana 6 dari 10 negara dengan Overall Life terbaik berasal dari Eropa, diikuti dengan 4 negara dari Asia\n",
        "5. jika dilihat dari rata-rata Overall Life berdasarkan Benua, Benua Eropa adalah Benua yang memiliki rata-rata Overall Life terbaik."
      ]
    },
    {
      "cell_type": "markdown",
      "metadata": {
        "id": "JU7QqkmzhPmC"
      },
      "source": [
        "jika kita lihat dari clustering yang sudah kita lakukan, maka terdapat 4 cluster yaitu:\n",
        "- 0: Negara dengan dengan Overall Life cukup tinggi\n",
        "- 1: Negara dengan dengan Overall Life rendah\n",
        "- 2: Negara dengan dengan Overall Life cukup rendah \n",
        "- 3: Negara dengan dengan Overall Life tinggi\n",
        "\n",
        "\n"
      ]
    },
    {
      "cell_type": "markdown",
      "metadata": {
        "id": "vhUh1a2wie5o"
      },
      "source": [
        "Jika kita lihat pada label 0, Overall Life nya cukup tinggi, begitu pun Female Life dan Male Life nya, hal tersebut juga terjadi pada label lain. Dapat dikatakan bahwa nilai Overall Life berbanding lurus dengan Male Life dan Female Life(semakin naik nilai Female dan Male Life) semakin naik nilai Overall Life.\n",
        "\n",
        "Sehingga pada kasus kali ini, peringkat Male Life,Female Life, dan Overall Life per label mempunyai kedudukan yang sama\n",
        "\n"
      ]
    },
    {
      "cell_type": "markdown",
      "metadata": {
        "id": "vYMhDsyAjY7j"
      },
      "source": [
        "Jika kita lihat dari jumlah negara per benua\n",
        "- 0: 90 Negara\n",
        "- 1: 24 negara\n",
        "- 2: 41 negara\n",
        "- 3: 68 negara\n",
        "\n",
        "maka dapat disimpulkan bahwa rata-rata negara di dunia sudah memiliki Overall life yang cukup tinggi, bahkan nilai Overall Life yang dibilang tinggi sudah dimiliki oleh 68 negara. Namun sebanyak 65 negara dari total 223 masih memiliki Overall Life yang dikategorikan rendah"
      ]
    },
    {
      "cell_type": "code",
      "execution_count": 85,
      "metadata": {
        "colab": {
          "base_uri": "https://localhost:8080/",
          "height": 802
        },
        "id": "MuXYtvqgkbMH",
        "outputId": "f11cb77b-5f83-48b2-fb79-d5c93878ff0e"
      },
      "outputs": [
        {
          "data": {
            "text/html": [
              "\n",
              "  <div id=\"df-0c2e8fd6-6fcc-426e-8b3b-d55a3bd2c9a6\">\n",
              "    <div class=\"colab-df-container\">\n",
              "      <div>\n",
              "<style scoped>\n",
              "    .dataframe tbody tr th:only-of-type {\n",
              "        vertical-align: middle;\n",
              "    }\n",
              "\n",
              "    .dataframe tbody tr th {\n",
              "        vertical-align: top;\n",
              "    }\n",
              "\n",
              "    .dataframe thead th {\n",
              "        text-align: right;\n",
              "    }\n",
              "</style>\n",
              "<table border=\"1\" class=\"dataframe\">\n",
              "  <thead>\n",
              "    <tr style=\"text-align: right;\">\n",
              "      <th></th>\n",
              "      <th>Country</th>\n",
              "    </tr>\n",
              "  </thead>\n",
              "  <tbody>\n",
              "    <tr>\n",
              "      <th>199</th>\n",
              "      <td>Republic of the Congo</td>\n",
              "    </tr>\n",
              "    <tr>\n",
              "      <th>200</th>\n",
              "      <td>Liberia</td>\n",
              "    </tr>\n",
              "    <tr>\n",
              "      <th>201</th>\n",
              "      <td>Côte d'Ivoire</td>\n",
              "    </tr>\n",
              "    <tr>\n",
              "      <th>202</th>\n",
              "      <td>Cameroon</td>\n",
              "    </tr>\n",
              "    <tr>\n",
              "      <th>203</th>\n",
              "      <td>Sierra Leone</td>\n",
              "    </tr>\n",
              "    <tr>\n",
              "      <th>204</th>\n",
              "      <td>Zimbabwe</td>\n",
              "    </tr>\n",
              "    <tr>\n",
              "      <th>205</th>\n",
              "      <td>Democratic Republic of the Congo</td>\n",
              "    </tr>\n",
              "    <tr>\n",
              "      <th>206</th>\n",
              "      <td>Angola</td>\n",
              "    </tr>\n",
              "    <tr>\n",
              "      <th>207</th>\n",
              "      <td>Mali</td>\n",
              "    </tr>\n",
              "    <tr>\n",
              "      <th>208</th>\n",
              "      <td>Burkina Faso</td>\n",
              "    </tr>\n",
              "    <tr>\n",
              "      <th>209</th>\n",
              "      <td>Niger</td>\n",
              "    </tr>\n",
              "    <tr>\n",
              "      <th>210</th>\n",
              "      <td>Uganda</td>\n",
              "    </tr>\n",
              "    <tr>\n",
              "      <th>211</th>\n",
              "      <td>Botswana</td>\n",
              "    </tr>\n",
              "    <tr>\n",
              "      <th>212</th>\n",
              "      <td>Nigeria</td>\n",
              "    </tr>\n",
              "    <tr>\n",
              "      <th>213</th>\n",
              "      <td>Mozambique</td>\n",
              "    </tr>\n",
              "    <tr>\n",
              "      <th>214</th>\n",
              "      <td>Lesotho</td>\n",
              "    </tr>\n",
              "    <tr>\n",
              "      <th>215</th>\n",
              "      <td>Zambia</td>\n",
              "    </tr>\n",
              "    <tr>\n",
              "      <th>216</th>\n",
              "      <td>Somalia</td>\n",
              "    </tr>\n",
              "    <tr>\n",
              "      <th>217</th>\n",
              "      <td>Central African Republic</td>\n",
              "    </tr>\n",
              "    <tr>\n",
              "      <th>218</th>\n",
              "      <td>Gabon</td>\n",
              "    </tr>\n",
              "    <tr>\n",
              "      <th>219</th>\n",
              "      <td>Swaziland</td>\n",
              "    </tr>\n",
              "    <tr>\n",
              "      <th>220</th>\n",
              "      <td>Afghanistan</td>\n",
              "    </tr>\n",
              "    <tr>\n",
              "      <th>221</th>\n",
              "      <td>Guinea-Bissau</td>\n",
              "    </tr>\n",
              "    <tr>\n",
              "      <th>222</th>\n",
              "      <td>Chad</td>\n",
              "    </tr>\n",
              "  </tbody>\n",
              "</table>\n",
              "</div>\n",
              "      <button class=\"colab-df-convert\" onclick=\"convertToInteractive('df-0c2e8fd6-6fcc-426e-8b3b-d55a3bd2c9a6')\"\n",
              "              title=\"Convert this dataframe to an interactive table.\"\n",
              "              style=\"display:none;\">\n",
              "        \n",
              "  <svg xmlns=\"http://www.w3.org/2000/svg\" height=\"24px\"viewBox=\"0 0 24 24\"\n",
              "       width=\"24px\">\n",
              "    <path d=\"M0 0h24v24H0V0z\" fill=\"none\"/>\n",
              "    <path d=\"M18.56 5.44l.94 2.06.94-2.06 2.06-.94-2.06-.94-.94-2.06-.94 2.06-2.06.94zm-11 1L8.5 8.5l.94-2.06 2.06-.94-2.06-.94L8.5 2.5l-.94 2.06-2.06.94zm10 10l.94 2.06.94-2.06 2.06-.94-2.06-.94-.94-2.06-.94 2.06-2.06.94z\"/><path d=\"M17.41 7.96l-1.37-1.37c-.4-.4-.92-.59-1.43-.59-.52 0-1.04.2-1.43.59L10.3 9.45l-7.72 7.72c-.78.78-.78 2.05 0 2.83L4 21.41c.39.39.9.59 1.41.59.51 0 1.02-.2 1.41-.59l7.78-7.78 2.81-2.81c.8-.78.8-2.07 0-2.86zM5.41 20L4 18.59l7.72-7.72 1.47 1.35L5.41 20z\"/>\n",
              "  </svg>\n",
              "      </button>\n",
              "      \n",
              "  <style>\n",
              "    .colab-df-container {\n",
              "      display:flex;\n",
              "      flex-wrap:wrap;\n",
              "      gap: 12px;\n",
              "    }\n",
              "\n",
              "    .colab-df-convert {\n",
              "      background-color: #E8F0FE;\n",
              "      border: none;\n",
              "      border-radius: 50%;\n",
              "      cursor: pointer;\n",
              "      display: none;\n",
              "      fill: #1967D2;\n",
              "      height: 32px;\n",
              "      padding: 0 0 0 0;\n",
              "      width: 32px;\n",
              "    }\n",
              "\n",
              "    .colab-df-convert:hover {\n",
              "      background-color: #E2EBFA;\n",
              "      box-shadow: 0px 1px 2px rgba(60, 64, 67, 0.3), 0px 1px 3px 1px rgba(60, 64, 67, 0.15);\n",
              "      fill: #174EA6;\n",
              "    }\n",
              "\n",
              "    [theme=dark] .colab-df-convert {\n",
              "      background-color: #3B4455;\n",
              "      fill: #D2E3FC;\n",
              "    }\n",
              "\n",
              "    [theme=dark] .colab-df-convert:hover {\n",
              "      background-color: #434B5C;\n",
              "      box-shadow: 0px 1px 3px 1px rgba(0, 0, 0, 0.15);\n",
              "      filter: drop-shadow(0px 1px 2px rgba(0, 0, 0, 0.3));\n",
              "      fill: #FFFFFF;\n",
              "    }\n",
              "  </style>\n",
              "\n",
              "      <script>\n",
              "        const buttonEl =\n",
              "          document.querySelector('#df-0c2e8fd6-6fcc-426e-8b3b-d55a3bd2c9a6 button.colab-df-convert');\n",
              "        buttonEl.style.display =\n",
              "          google.colab.kernel.accessAllowed ? 'block' : 'none';\n",
              "\n",
              "        async function convertToInteractive(key) {\n",
              "          const element = document.querySelector('#df-0c2e8fd6-6fcc-426e-8b3b-d55a3bd2c9a6');\n",
              "          const dataTable =\n",
              "            await google.colab.kernel.invokeFunction('convertToInteractive',\n",
              "                                                     [key], {});\n",
              "          if (!dataTable) return;\n",
              "\n",
              "          const docLinkHtml = 'Like what you see? Visit the ' +\n",
              "            '<a target=\"_blank\" href=https://colab.research.google.com/notebooks/data_table.ipynb>data table notebook</a>'\n",
              "            + ' to learn more about interactive tables.';\n",
              "          element.innerHTML = '';\n",
              "          dataTable['output_type'] = 'display_data';\n",
              "          await google.colab.output.renderOutput(dataTable, element);\n",
              "          const docLink = document.createElement('div');\n",
              "          docLink.innerHTML = docLinkHtml;\n",
              "          element.appendChild(docLink);\n",
              "        }\n",
              "      </script>\n",
              "    </div>\n",
              "  </div>\n",
              "  "
            ],
            "text/plain": [
              "                              Country\n",
              "199             Republic of the Congo\n",
              "200                           Liberia\n",
              "201                     Côte d'Ivoire\n",
              "202                          Cameroon\n",
              "203                      Sierra Leone\n",
              "204                          Zimbabwe\n",
              "205  Democratic Republic of the Congo\n",
              "206                            Angola\n",
              "207                              Mali\n",
              "208                      Burkina Faso\n",
              "209                             Niger\n",
              "210                            Uganda\n",
              "211                          Botswana\n",
              "212                           Nigeria\n",
              "213                        Mozambique\n",
              "214                           Lesotho\n",
              "215                            Zambia\n",
              "216                           Somalia\n",
              "217          Central African Republic\n",
              "218                             Gabon\n",
              "219                         Swaziland\n",
              "220                       Afghanistan\n",
              "221                     Guinea-Bissau\n",
              "222                              Chad"
            ]
          },
          "execution_count": 85,
          "metadata": {},
          "output_type": "execute_result"
        }
      ],
      "source": [
        "africayn = pd.DataFrame(df['Country'][df['label'] == 1])\n",
        "africayn"
      ]
    },
    {
      "cell_type": "markdown",
      "metadata": {
        "id": "97F44BeDkS5m"
      },
      "source": [
        "Jika kita lihat dari EDA awal dan EDA hasil clustering, saat kita melihat bahwa label 1 adalah negara dengan angka harapan hidup rendah, dapat dilihat bahwa negara tersebut didominasi oleh benua afrika. Hal ini memiliki kesamaan pada EDA yang menampilkan bahwa benua afrika adalah benua dengan angka harapan hidup terendah"
      ]
    },
    {
      "cell_type": "code",
      "execution_count": 86,
      "metadata": {
        "colab": {
          "base_uri": "https://localhost:8080/",
          "height": 433
        },
        "id": "mRKaP587lAUP",
        "outputId": "73a0a52d-6133-43ea-e7b5-0cb2c1f31f2a"
      },
      "outputs": [
        {
          "data": {
            "text/plain": [
              "<matplotlib.axes._subplots.AxesSubplot at 0x7f071b940450>"
            ]
          },
          "execution_count": 86,
          "metadata": {},
          "output_type": "execute_result"
        },
        {
          "data": {
            "image/png": "[encoded data removed]",
            "text/plain": [
              "<Figure size 576x396 with 1 Axes>"
            ]
          },
          "metadata": {},
          "output_type": "display_data"
        }
      ],
      "source": [
        "topcontinent2 = df.groupby('Continent')[['Overall Life']].mean().sort_values('Overall Life', ascending=False).plot(kind='bar')\n",
        "topcontinent2"
      ]
    }
  ],
  "metadata": {
    "colab": {
      "provenance": [],
      "toc_visible": true
    },
    "kernelspec": {
      "display_name": "Python 3",
      "name": "python3"
    },
    "language_info": {
      "name": "python"
    }
  },
  "nbformat": 4,
  "nbformat_minor": 0
}
